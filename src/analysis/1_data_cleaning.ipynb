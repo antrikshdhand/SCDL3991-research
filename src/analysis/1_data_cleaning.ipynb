{
 "cells": [
  {
   "cell_type": "markdown",
   "metadata": {},
   "source": [
    "# The data verification & validation process"
   ]
  },
  {
   "cell_type": "code",
   "execution_count": 1,
   "metadata": {},
   "outputs": [],
   "source": [
    "import pandas as pd\n",
    "import plotly.express as px\n",
    "import plotly.io as pio   \n",
    "pio.kaleido.scope.mathjax = None"
   ]
  },
  {
   "cell_type": "markdown",
   "metadata": {},
   "source": [
    "## Importing and refining our dataset"
   ]
  },
  {
   "cell_type": "code",
   "execution_count": 2,
   "metadata": {},
   "outputs": [
    {
     "data": {
      "text/html": [
       "<div>\n",
       "<style scoped>\n",
       "    .dataframe tbody tr th:only-of-type {\n",
       "        vertical-align: middle;\n",
       "    }\n",
       "\n",
       "    .dataframe tbody tr th {\n",
       "        vertical-align: top;\n",
       "    }\n",
       "\n",
       "    .dataframe thead th {\n",
       "        text-align: right;\n",
       "    }\n",
       "</style>\n",
       "<table border=\"1\" class=\"dataframe\">\n",
       "  <thead>\n",
       "    <tr style=\"text-align: right;\">\n",
       "      <th></th>\n",
       "      <th>Year Code</th>\n",
       "      <th>ID</th>\n",
       "      <th>Sex</th>\n",
       "      <th>Age</th>\n",
       "      <th>Date of death</th>\n",
       "      <th>DATE OF RECEPTION</th>\n",
       "      <th>DATE OF RETURN FOR SEPULTURE</th>\n",
       "      <th>DATE OF BURIAL OR CREMATION</th>\n",
       "      <th>PLACE OF DEATH</th>\n",
       "      <th>PLACE OF DEATH CATEGORY CODE</th>\n",
       "    </tr>\n",
       "  </thead>\n",
       "  <tbody>\n",
       "    <tr>\n",
       "      <th>0</th>\n",
       "      <td>1883</td>\n",
       "      <td>1.0</td>\n",
       "      <td>M</td>\n",
       "      <td>71.0</td>\n",
       "      <td>8/5/1883</td>\n",
       "      <td>11/5/1883</td>\n",
       "      <td>13/6/1883</td>\n",
       "      <td>13/6/1883</td>\n",
       "      <td>Callan Park Hospital</td>\n",
       "      <td>100</td>\n",
       "    </tr>\n",
       "    <tr>\n",
       "      <th>1</th>\n",
       "      <td>1883</td>\n",
       "      <td>2.0</td>\n",
       "      <td>M</td>\n",
       "      <td>78.0</td>\n",
       "      <td>13/5/1883</td>\n",
       "      <td>15/5/1883</td>\n",
       "      <td>19/5/1883</td>\n",
       "      <td>19/5/1883</td>\n",
       "      <td>Sydney Hospital</td>\n",
       "      <td>23</td>\n",
       "    </tr>\n",
       "    <tr>\n",
       "      <th>2</th>\n",
       "      <td>1883</td>\n",
       "      <td>3.0</td>\n",
       "      <td>M</td>\n",
       "      <td>38.0</td>\n",
       "      <td>22/5/1883</td>\n",
       "      <td>24/5/1883</td>\n",
       "      <td>16/10/1883</td>\n",
       "      <td>16/10/1883</td>\n",
       "      <td>Gladesville Mental Hospital</td>\n",
       "      <td>3</td>\n",
       "    </tr>\n",
       "    <tr>\n",
       "      <th>3</th>\n",
       "      <td>1883</td>\n",
       "      <td>4.0</td>\n",
       "      <td>M</td>\n",
       "      <td>60.0</td>\n",
       "      <td>7/7/1883</td>\n",
       "      <td>08/07/1883</td>\n",
       "      <td>16/10/1883</td>\n",
       "      <td>16/10/1883</td>\n",
       "      <td>Sydney Hospital</td>\n",
       "      <td>23</td>\n",
       "    </tr>\n",
       "    <tr>\n",
       "      <th>4</th>\n",
       "      <td>1883</td>\n",
       "      <td>5.0</td>\n",
       "      <td>M</td>\n",
       "      <td>52.0</td>\n",
       "      <td>10/7/1883</td>\n",
       "      <td>13/7/1883</td>\n",
       "      <td>16/10/1883</td>\n",
       "      <td>16/10/1883</td>\n",
       "      <td>Sydney Hospital</td>\n",
       "      <td>23</td>\n",
       "    </tr>\n",
       "  </tbody>\n",
       "</table>\n",
       "</div>"
      ],
      "text/plain": [
       "   Year Code   ID Sex   Age Date of death DATE OF RECEPTION  \\\n",
       "0       1883  1.0   M  71.0      8/5/1883         11/5/1883   \n",
       "1       1883  2.0   M  78.0     13/5/1883         15/5/1883   \n",
       "2       1883  3.0   M  38.0     22/5/1883         24/5/1883   \n",
       "3       1883  4.0   M  60.0      7/7/1883        08/07/1883   \n",
       "4       1883  5.0   M  52.0     10/7/1883         13/7/1883   \n",
       "\n",
       "  DATE OF RETURN FOR SEPULTURE DATE OF BURIAL OR CREMATION  \\\n",
       "0                    13/6/1883                   13/6/1883   \n",
       "1                    19/5/1883                   19/5/1883   \n",
       "2                   16/10/1883                  16/10/1883   \n",
       "3                   16/10/1883                  16/10/1883   \n",
       "4                   16/10/1883                  16/10/1883   \n",
       "\n",
       "                PLACE OF DEATH  PLACE OF DEATH CATEGORY CODE  \n",
       "0         Callan Park Hospital                           100  \n",
       "1              Sydney Hospital                            23  \n",
       "2  Gladesville Mental Hospital                             3  \n",
       "3              Sydney Hospital                            23  \n",
       "4              Sydney Hospital                            23  "
      ]
     },
     "execution_count": 2,
     "metadata": {},
     "output_type": "execute_result"
    }
   ],
   "source": [
    "# Import data\n",
    "cols = [\"Year Code\", \"ID\", \"Sex\", \"Age\", \"Date of death\", \"DATE OF RECEPTION\", \"DATE OF RETURN FOR SEPULTURE\", \"DATE OF BURIAL OR CREMATION\", \"PLACE OF DEATH\", \"PLACE OF DEATH CATEGORY CODE\"]\n",
    "data = pd.read_csv(\"data/donor_register_april17.csv\", low_memory=True, usecols=cols)\n",
    "data.head()"
   ]
  },
  {
   "cell_type": "code",
   "execution_count": 3,
   "metadata": {},
   "outputs": [
    {
     "data": {
      "text/html": [
       "<div>\n",
       "<style scoped>\n",
       "    .dataframe tbody tr th:only-of-type {\n",
       "        vertical-align: middle;\n",
       "    }\n",
       "\n",
       "    .dataframe tbody tr th {\n",
       "        vertical-align: top;\n",
       "    }\n",
       "\n",
       "    .dataframe thead th {\n",
       "        text-align: right;\n",
       "    }\n",
       "</style>\n",
       "<table border=\"1\" class=\"dataframe\">\n",
       "  <thead>\n",
       "    <tr style=\"text-align: right;\">\n",
       "      <th></th>\n",
       "      <th>year</th>\n",
       "      <th>id</th>\n",
       "      <th>sex</th>\n",
       "      <th>age</th>\n",
       "      <th>death_date</th>\n",
       "      <th>reception_date</th>\n",
       "      <th>return_date_sepulture</th>\n",
       "      <th>burial_date</th>\n",
       "      <th>death_place</th>\n",
       "      <th>place_code</th>\n",
       "    </tr>\n",
       "  </thead>\n",
       "  <tbody>\n",
       "    <tr>\n",
       "      <th>0</th>\n",
       "      <td>1883</td>\n",
       "      <td>1.0</td>\n",
       "      <td>M</td>\n",
       "      <td>71.0</td>\n",
       "      <td>8/5/1883</td>\n",
       "      <td>11/5/1883</td>\n",
       "      <td>13/6/1883</td>\n",
       "      <td>13/6/1883</td>\n",
       "      <td>Callan Park Hospital</td>\n",
       "      <td>100</td>\n",
       "    </tr>\n",
       "    <tr>\n",
       "      <th>1</th>\n",
       "      <td>1883</td>\n",
       "      <td>2.0</td>\n",
       "      <td>M</td>\n",
       "      <td>78.0</td>\n",
       "      <td>13/5/1883</td>\n",
       "      <td>15/5/1883</td>\n",
       "      <td>19/5/1883</td>\n",
       "      <td>19/5/1883</td>\n",
       "      <td>Sydney Hospital</td>\n",
       "      <td>23</td>\n",
       "    </tr>\n",
       "    <tr>\n",
       "      <th>2</th>\n",
       "      <td>1883</td>\n",
       "      <td>3.0</td>\n",
       "      <td>M</td>\n",
       "      <td>38.0</td>\n",
       "      <td>22/5/1883</td>\n",
       "      <td>24/5/1883</td>\n",
       "      <td>16/10/1883</td>\n",
       "      <td>16/10/1883</td>\n",
       "      <td>Gladesville Mental Hospital</td>\n",
       "      <td>3</td>\n",
       "    </tr>\n",
       "    <tr>\n",
       "      <th>3</th>\n",
       "      <td>1883</td>\n",
       "      <td>4.0</td>\n",
       "      <td>M</td>\n",
       "      <td>60.0</td>\n",
       "      <td>7/7/1883</td>\n",
       "      <td>08/07/1883</td>\n",
       "      <td>16/10/1883</td>\n",
       "      <td>16/10/1883</td>\n",
       "      <td>Sydney Hospital</td>\n",
       "      <td>23</td>\n",
       "    </tr>\n",
       "    <tr>\n",
       "      <th>4</th>\n",
       "      <td>1883</td>\n",
       "      <td>5.0</td>\n",
       "      <td>M</td>\n",
       "      <td>52.0</td>\n",
       "      <td>10/7/1883</td>\n",
       "      <td>13/7/1883</td>\n",
       "      <td>16/10/1883</td>\n",
       "      <td>16/10/1883</td>\n",
       "      <td>Sydney Hospital</td>\n",
       "      <td>23</td>\n",
       "    </tr>\n",
       "  </tbody>\n",
       "</table>\n",
       "</div>"
      ],
      "text/plain": [
       "   year   id sex   age death_date reception_date return_date_sepulture  \\\n",
       "0  1883  1.0   M  71.0   8/5/1883      11/5/1883             13/6/1883   \n",
       "1  1883  2.0   M  78.0  13/5/1883      15/5/1883             19/5/1883   \n",
       "2  1883  3.0   M  38.0  22/5/1883      24/5/1883            16/10/1883   \n",
       "3  1883  4.0   M  60.0   7/7/1883     08/07/1883            16/10/1883   \n",
       "4  1883  5.0   M  52.0  10/7/1883      13/7/1883            16/10/1883   \n",
       "\n",
       "  burial_date                  death_place  place_code  \n",
       "0   13/6/1883         Callan Park Hospital         100  \n",
       "1   19/5/1883              Sydney Hospital          23  \n",
       "2  16/10/1883  Gladesville Mental Hospital           3  \n",
       "3  16/10/1883              Sydney Hospital          23  \n",
       "4  16/10/1883              Sydney Hospital          23  "
      ]
     },
     "execution_count": 3,
     "metadata": {},
     "output_type": "execute_result"
    }
   ],
   "source": [
    "# Rename columns\n",
    "cols = [\"year\", \"id\", \"sex\", \"age\", \"death_date\", \"reception_date\", \"return_date_sepulture\", \"burial_date\", \"death_place\", \"place_code\"]\n",
    "data.columns = cols\n",
    "\n",
    "data.head()"
   ]
  },
  {
   "cell_type": "markdown",
   "metadata": {},
   "source": [
    "### Basic preliminary data analysis"
   ]
  },
  {
   "cell_type": "code",
   "execution_count": 4,
   "metadata": {},
   "outputs": [
    {
     "data": {
      "application/vnd.plotly.v1+json": {
       "config": {
        "plotlyServerURL": "https://plot.ly"
       },
       "data": [
        {
         "hovertemplate": "x=%{x}<br>y=%{y}<extra></extra>",
         "legendgroup": "",
         "line": {
          "color": "#636efa",
          "dash": "solid"
         },
         "marker": {
          "symbol": "circle"
         },
         "mode": "lines",
         "name": "",
         "orientation": "v",
         "showlegend": false,
         "type": "scatter",
         "x": [
          1883,
          1884,
          1885,
          1886,
          1887,
          1888,
          1889,
          1890,
          1891,
          1892,
          1893,
          1894,
          1895,
          1896,
          1897,
          1898,
          1899,
          1900,
          1901,
          1902,
          1903,
          1904,
          1905,
          1906,
          1907,
          1908,
          1909,
          1910,
          1911,
          1912,
          1913,
          1914,
          1915,
          1916,
          1917,
          1918,
          1919,
          1920,
          1921,
          1922,
          1923,
          1924,
          1925,
          1926,
          1927,
          1928,
          1929,
          1930,
          1931,
          1932,
          1933,
          1934,
          1935,
          1936,
          1937,
          1938,
          1939,
          1940,
          1941,
          1942,
          1943,
          1944,
          1945,
          1946,
          1947,
          1948,
          1949,
          1950,
          1951,
          1952,
          1953,
          1954,
          1955,
          1956,
          1957,
          1958,
          1959,
          1960,
          1961,
          1962,
          1963,
          1964,
          1965,
          1966,
          1967,
          1968,
          1969,
          1970,
          1971,
          1972,
          1973,
          1974,
          1975,
          1976,
          1977,
          1978,
          1979,
          1980,
          1981,
          1982,
          1983
         ],
         "xaxis": "x",
         "y": [
          10,
          14,
          20,
          14,
          16,
          17,
          21,
          21,
          25,
          19,
          12,
          27,
          29,
          31,
          36,
          34,
          39,
          37,
          47,
          46,
          55,
          52,
          56,
          60,
          60,
          67,
          69,
          84,
          110,
          97,
          109,
          106,
          91,
          96,
          113,
          147,
          108,
          105,
          83,
          70,
          71,
          72,
          64,
          67,
          51,
          54,
          66,
          52,
          71,
          67,
          69,
          91,
          74,
          72,
          78,
          67,
          68,
          89,
          72,
          118,
          83,
          45,
          63,
          50,
          46,
          33,
          70,
          50,
          61,
          60,
          46,
          61,
          67,
          67,
          88,
          88,
          120,
          127,
          150,
          153,
          164,
          154,
          146,
          158,
          121,
          130,
          122,
          138,
          133,
          123,
          107,
          109,
          109,
          110,
          105,
          103,
          84,
          69,
          94,
          62,
          54
         ],
         "yaxis": "y"
        }
       ],
       "layout": {
        "legend": {
         "tracegroupgap": 0
        },
        "margin": {
         "t": 60
        },
        "showlegend": false,
        "template": {
         "data": {
          "bar": [
           {
            "error_x": {
             "color": "#2a3f5f"
            },
            "error_y": {
             "color": "#2a3f5f"
            },
            "marker": {
             "line": {
              "color": "#E5ECF6",
              "width": 0.5
             },
             "pattern": {
              "fillmode": "overlay",
              "size": 10,
              "solidity": 0.2
             }
            },
            "type": "bar"
           }
          ],
          "barpolar": [
           {
            "marker": {
             "line": {
              "color": "#E5ECF6",
              "width": 0.5
             },
             "pattern": {
              "fillmode": "overlay",
              "size": 10,
              "solidity": 0.2
             }
            },
            "type": "barpolar"
           }
          ],
          "carpet": [
           {
            "aaxis": {
             "endlinecolor": "#2a3f5f",
             "gridcolor": "white",
             "linecolor": "white",
             "minorgridcolor": "white",
             "startlinecolor": "#2a3f5f"
            },
            "baxis": {
             "endlinecolor": "#2a3f5f",
             "gridcolor": "white",
             "linecolor": "white",
             "minorgridcolor": "white",
             "startlinecolor": "#2a3f5f"
            },
            "type": "carpet"
           }
          ],
          "choropleth": [
           {
            "colorbar": {
             "outlinewidth": 0,
             "ticks": ""
            },
            "type": "choropleth"
           }
          ],
          "contour": [
           {
            "colorbar": {
             "outlinewidth": 0,
             "ticks": ""
            },
            "colorscale": [
             [
              0,
              "#0d0887"
             ],
             [
              0.1111111111111111,
              "#46039f"
             ],
             [
              0.2222222222222222,
              "#7201a8"
             ],
             [
              0.3333333333333333,
              "#9c179e"
             ],
             [
              0.4444444444444444,
              "#bd3786"
             ],
             [
              0.5555555555555556,
              "#d8576b"
             ],
             [
              0.6666666666666666,
              "#ed7953"
             ],
             [
              0.7777777777777778,
              "#fb9f3a"
             ],
             [
              0.8888888888888888,
              "#fdca26"
             ],
             [
              1,
              "#f0f921"
             ]
            ],
            "type": "contour"
           }
          ],
          "contourcarpet": [
           {
            "colorbar": {
             "outlinewidth": 0,
             "ticks": ""
            },
            "type": "contourcarpet"
           }
          ],
          "heatmap": [
           {
            "colorbar": {
             "outlinewidth": 0,
             "ticks": ""
            },
            "colorscale": [
             [
              0,
              "#0d0887"
             ],
             [
              0.1111111111111111,
              "#46039f"
             ],
             [
              0.2222222222222222,
              "#7201a8"
             ],
             [
              0.3333333333333333,
              "#9c179e"
             ],
             [
              0.4444444444444444,
              "#bd3786"
             ],
             [
              0.5555555555555556,
              "#d8576b"
             ],
             [
              0.6666666666666666,
              "#ed7953"
             ],
             [
              0.7777777777777778,
              "#fb9f3a"
             ],
             [
              0.8888888888888888,
              "#fdca26"
             ],
             [
              1,
              "#f0f921"
             ]
            ],
            "type": "heatmap"
           }
          ],
          "heatmapgl": [
           {
            "colorbar": {
             "outlinewidth": 0,
             "ticks": ""
            },
            "colorscale": [
             [
              0,
              "#0d0887"
             ],
             [
              0.1111111111111111,
              "#46039f"
             ],
             [
              0.2222222222222222,
              "#7201a8"
             ],
             [
              0.3333333333333333,
              "#9c179e"
             ],
             [
              0.4444444444444444,
              "#bd3786"
             ],
             [
              0.5555555555555556,
              "#d8576b"
             ],
             [
              0.6666666666666666,
              "#ed7953"
             ],
             [
              0.7777777777777778,
              "#fb9f3a"
             ],
             [
              0.8888888888888888,
              "#fdca26"
             ],
             [
              1,
              "#f0f921"
             ]
            ],
            "type": "heatmapgl"
           }
          ],
          "histogram": [
           {
            "marker": {
             "pattern": {
              "fillmode": "overlay",
              "size": 10,
              "solidity": 0.2
             }
            },
            "type": "histogram"
           }
          ],
          "histogram2d": [
           {
            "colorbar": {
             "outlinewidth": 0,
             "ticks": ""
            },
            "colorscale": [
             [
              0,
              "#0d0887"
             ],
             [
              0.1111111111111111,
              "#46039f"
             ],
             [
              0.2222222222222222,
              "#7201a8"
             ],
             [
              0.3333333333333333,
              "#9c179e"
             ],
             [
              0.4444444444444444,
              "#bd3786"
             ],
             [
              0.5555555555555556,
              "#d8576b"
             ],
             [
              0.6666666666666666,
              "#ed7953"
             ],
             [
              0.7777777777777778,
              "#fb9f3a"
             ],
             [
              0.8888888888888888,
              "#fdca26"
             ],
             [
              1,
              "#f0f921"
             ]
            ],
            "type": "histogram2d"
           }
          ],
          "histogram2dcontour": [
           {
            "colorbar": {
             "outlinewidth": 0,
             "ticks": ""
            },
            "colorscale": [
             [
              0,
              "#0d0887"
             ],
             [
              0.1111111111111111,
              "#46039f"
             ],
             [
              0.2222222222222222,
              "#7201a8"
             ],
             [
              0.3333333333333333,
              "#9c179e"
             ],
             [
              0.4444444444444444,
              "#bd3786"
             ],
             [
              0.5555555555555556,
              "#d8576b"
             ],
             [
              0.6666666666666666,
              "#ed7953"
             ],
             [
              0.7777777777777778,
              "#fb9f3a"
             ],
             [
              0.8888888888888888,
              "#fdca26"
             ],
             [
              1,
              "#f0f921"
             ]
            ],
            "type": "histogram2dcontour"
           }
          ],
          "mesh3d": [
           {
            "colorbar": {
             "outlinewidth": 0,
             "ticks": ""
            },
            "type": "mesh3d"
           }
          ],
          "parcoords": [
           {
            "line": {
             "colorbar": {
              "outlinewidth": 0,
              "ticks": ""
             }
            },
            "type": "parcoords"
           }
          ],
          "pie": [
           {
            "automargin": true,
            "type": "pie"
           }
          ],
          "scatter": [
           {
            "fillpattern": {
             "fillmode": "overlay",
             "size": 10,
             "solidity": 0.2
            },
            "type": "scatter"
           }
          ],
          "scatter3d": [
           {
            "line": {
             "colorbar": {
              "outlinewidth": 0,
              "ticks": ""
             }
            },
            "marker": {
             "colorbar": {
              "outlinewidth": 0,
              "ticks": ""
             }
            },
            "type": "scatter3d"
           }
          ],
          "scattercarpet": [
           {
            "marker": {
             "colorbar": {
              "outlinewidth": 0,
              "ticks": ""
             }
            },
            "type": "scattercarpet"
           }
          ],
          "scattergeo": [
           {
            "marker": {
             "colorbar": {
              "outlinewidth": 0,
              "ticks": ""
             }
            },
            "type": "scattergeo"
           }
          ],
          "scattergl": [
           {
            "marker": {
             "colorbar": {
              "outlinewidth": 0,
              "ticks": ""
             }
            },
            "type": "scattergl"
           }
          ],
          "scattermapbox": [
           {
            "marker": {
             "colorbar": {
              "outlinewidth": 0,
              "ticks": ""
             }
            },
            "type": "scattermapbox"
           }
          ],
          "scatterpolar": [
           {
            "marker": {
             "colorbar": {
              "outlinewidth": 0,
              "ticks": ""
             }
            },
            "type": "scatterpolar"
           }
          ],
          "scatterpolargl": [
           {
            "marker": {
             "colorbar": {
              "outlinewidth": 0,
              "ticks": ""
             }
            },
            "type": "scatterpolargl"
           }
          ],
          "scatterternary": [
           {
            "marker": {
             "colorbar": {
              "outlinewidth": 0,
              "ticks": ""
             }
            },
            "type": "scatterternary"
           }
          ],
          "surface": [
           {
            "colorbar": {
             "outlinewidth": 0,
             "ticks": ""
            },
            "colorscale": [
             [
              0,
              "#0d0887"
             ],
             [
              0.1111111111111111,
              "#46039f"
             ],
             [
              0.2222222222222222,
              "#7201a8"
             ],
             [
              0.3333333333333333,
              "#9c179e"
             ],
             [
              0.4444444444444444,
              "#bd3786"
             ],
             [
              0.5555555555555556,
              "#d8576b"
             ],
             [
              0.6666666666666666,
              "#ed7953"
             ],
             [
              0.7777777777777778,
              "#fb9f3a"
             ],
             [
              0.8888888888888888,
              "#fdca26"
             ],
             [
              1,
              "#f0f921"
             ]
            ],
            "type": "surface"
           }
          ],
          "table": [
           {
            "cells": {
             "fill": {
              "color": "#EBF0F8"
             },
             "line": {
              "color": "white"
             }
            },
            "header": {
             "fill": {
              "color": "#C8D4E3"
             },
             "line": {
              "color": "white"
             }
            },
            "type": "table"
           }
          ]
         },
         "layout": {
          "annotationdefaults": {
           "arrowcolor": "#2a3f5f",
           "arrowhead": 0,
           "arrowwidth": 1
          },
          "autotypenumbers": "strict",
          "coloraxis": {
           "colorbar": {
            "outlinewidth": 0,
            "ticks": ""
           }
          },
          "colorscale": {
           "diverging": [
            [
             0,
             "#8e0152"
            ],
            [
             0.1,
             "#c51b7d"
            ],
            [
             0.2,
             "#de77ae"
            ],
            [
             0.3,
             "#f1b6da"
            ],
            [
             0.4,
             "#fde0ef"
            ],
            [
             0.5,
             "#f7f7f7"
            ],
            [
             0.6,
             "#e6f5d0"
            ],
            [
             0.7,
             "#b8e186"
            ],
            [
             0.8,
             "#7fbc41"
            ],
            [
             0.9,
             "#4d9221"
            ],
            [
             1,
             "#276419"
            ]
           ],
           "sequential": [
            [
             0,
             "#0d0887"
            ],
            [
             0.1111111111111111,
             "#46039f"
            ],
            [
             0.2222222222222222,
             "#7201a8"
            ],
            [
             0.3333333333333333,
             "#9c179e"
            ],
            [
             0.4444444444444444,
             "#bd3786"
            ],
            [
             0.5555555555555556,
             "#d8576b"
            ],
            [
             0.6666666666666666,
             "#ed7953"
            ],
            [
             0.7777777777777778,
             "#fb9f3a"
            ],
            [
             0.8888888888888888,
             "#fdca26"
            ],
            [
             1,
             "#f0f921"
            ]
           ],
           "sequentialminus": [
            [
             0,
             "#0d0887"
            ],
            [
             0.1111111111111111,
             "#46039f"
            ],
            [
             0.2222222222222222,
             "#7201a8"
            ],
            [
             0.3333333333333333,
             "#9c179e"
            ],
            [
             0.4444444444444444,
             "#bd3786"
            ],
            [
             0.5555555555555556,
             "#d8576b"
            ],
            [
             0.6666666666666666,
             "#ed7953"
            ],
            [
             0.7777777777777778,
             "#fb9f3a"
            ],
            [
             0.8888888888888888,
             "#fdca26"
            ],
            [
             1,
             "#f0f921"
            ]
           ]
          },
          "colorway": [
           "#636efa",
           "#EF553B",
           "#00cc96",
           "#ab63fa",
           "#FFA15A",
           "#19d3f3",
           "#FF6692",
           "#B6E880",
           "#FF97FF",
           "#FECB52"
          ],
          "font": {
           "color": "#2a3f5f"
          },
          "geo": {
           "bgcolor": "white",
           "lakecolor": "white",
           "landcolor": "#E5ECF6",
           "showlakes": true,
           "showland": true,
           "subunitcolor": "white"
          },
          "hoverlabel": {
           "align": "left"
          },
          "hovermode": "closest",
          "mapbox": {
           "style": "light"
          },
          "paper_bgcolor": "white",
          "plot_bgcolor": "#E5ECF6",
          "polar": {
           "angularaxis": {
            "gridcolor": "white",
            "linecolor": "white",
            "ticks": ""
           },
           "bgcolor": "#E5ECF6",
           "radialaxis": {
            "gridcolor": "white",
            "linecolor": "white",
            "ticks": ""
           }
          },
          "scene": {
           "xaxis": {
            "backgroundcolor": "#E5ECF6",
            "gridcolor": "white",
            "gridwidth": 2,
            "linecolor": "white",
            "showbackground": true,
            "ticks": "",
            "zerolinecolor": "white"
           },
           "yaxis": {
            "backgroundcolor": "#E5ECF6",
            "gridcolor": "white",
            "gridwidth": 2,
            "linecolor": "white",
            "showbackground": true,
            "ticks": "",
            "zerolinecolor": "white"
           },
           "zaxis": {
            "backgroundcolor": "#E5ECF6",
            "gridcolor": "white",
            "gridwidth": 2,
            "linecolor": "white",
            "showbackground": true,
            "ticks": "",
            "zerolinecolor": "white"
           }
          },
          "shapedefaults": {
           "line": {
            "color": "#2a3f5f"
           }
          },
          "ternary": {
           "aaxis": {
            "gridcolor": "white",
            "linecolor": "white",
            "ticks": ""
           },
           "baxis": {
            "gridcolor": "white",
            "linecolor": "white",
            "ticks": ""
           },
           "bgcolor": "#E5ECF6",
           "caxis": {
            "gridcolor": "white",
            "linecolor": "white",
            "ticks": ""
           }
          },
          "title": {
           "x": 0.05
          },
          "xaxis": {
           "automargin": true,
           "gridcolor": "white",
           "linecolor": "white",
           "ticks": "",
           "title": {
            "standoff": 15
           },
           "zerolinecolor": "white",
           "zerolinewidth": 2
          },
          "yaxis": {
           "automargin": true,
           "gridcolor": "white",
           "linecolor": "white",
           "ticks": "",
           "title": {
            "standoff": 15
           },
           "zerolinecolor": "white",
           "zerolinewidth": 2
          }
         }
        },
        "title": {
         "text": "Number of entries in Anatomy Registers by year"
        },
        "xaxis": {
         "anchor": "y",
         "domain": [
          0,
          1
         ],
         "title": {
          "text": "Year"
         }
        },
        "yaxis": {
         "anchor": "x",
         "domain": [
          0,
          1
         ],
         "title": {
          "text": "Count"
         }
        }
       }
      }
     },
     "metadata": {},
     "output_type": "display_data"
    },
    {
     "name": "stdout",
     "output_type": "stream",
     "text": [
      "count    101.000000\n",
      "mean      75.336634\n",
      "std       37.972695\n",
      "min       10.000000\n",
      "25%       50.000000\n",
      "50%       69.000000\n",
      "75%      105.000000\n",
      "max      164.000000\n",
      "Name: count, dtype: float64\n"
     ]
    }
   ],
   "source": [
    "count_by_year = data.groupby([\"year\"], as_index=False).size()\n",
    "count_by_year.columns = [\"year\", \"count\"]\n",
    "\n",
    "summary_stats = count_by_year[\"count\"].describe()\n",
    "\n",
    "fig = px.line(x=count_by_year[\"year\"], y=count_by_year[\"count\"])\n",
    "\n",
    "fig.update_layout(\n",
    "    title=\"Number of entries in Anatomy Registers by year\",\n",
    "    xaxis_title=\"Year\",\n",
    "    yaxis_title=\"Count\",\n",
    "    showlegend=False,\n",
    "    # margin=dict(l=30, r=30, t=30, b=30)\n",
    ")\n",
    "\n",
    "# with open(\"out/data_by_year.pdf\", \"wb\") as f:\n",
    "#     f.write(fig.to_image(format=\"pdf\"))\n",
    "\n",
    "fig.show()\n",
    "\n",
    "print(count_by_year[\"count\"].describe())"
   ]
  },
  {
   "cell_type": "code",
   "execution_count": 5,
   "metadata": {},
   "outputs": [
    {
     "data": {
      "application/vnd.plotly.v1+json": {
       "config": {
        "plotlyServerURL": "https://plot.ly"
       },
       "data": [
        {
         "alignmentgroup": "True",
         "hovertemplate": "sex=M<br>year=%{x}<br>size=%{y}<extra></extra>",
         "legendgroup": "M",
         "marker": {
          "color": "#636efa",
          "pattern": {
           "shape": ""
          }
         },
         "name": "M",
         "offsetgroup": "M",
         "orientation": "v",
         "showlegend": true,
         "textposition": "auto",
         "type": "bar",
         "x": [
          1883,
          1884,
          1885,
          1886,
          1887,
          1888,
          1889,
          1890,
          1891,
          1892,
          1893,
          1894,
          1895,
          1896,
          1897,
          1898,
          1899,
          1900,
          1901,
          1902,
          1903,
          1904,
          1905,
          1906,
          1907,
          1908,
          1909,
          1910,
          1911,
          1912,
          1913,
          1914,
          1915,
          1916,
          1917,
          1918,
          1919,
          1920,
          1921,
          1922,
          1923,
          1924,
          1925,
          1926,
          1927,
          1928,
          1929,
          1930,
          1931,
          1932,
          1933,
          1934,
          1935,
          1936,
          1937,
          1938,
          1939,
          1940,
          1941,
          1942,
          1943,
          1944,
          1945,
          1946,
          1947,
          1948,
          1949,
          1950,
          1951,
          1952,
          1953,
          1954,
          1955,
          1956,
          1957,
          1958,
          1959,
          1960,
          1961,
          1962,
          1963,
          1964,
          1965,
          1966,
          1967,
          1968,
          1969,
          1970,
          1971,
          1972,
          1973,
          1974,
          1975,
          1976,
          1977,
          1978,
          1979,
          1980,
          1981,
          1982,
          1983
         ],
         "xaxis": "x",
         "y": [
          10,
          13,
          20,
          12,
          16,
          15,
          21,
          19,
          25,
          19,
          12,
          27,
          23,
          23,
          27,
          32,
          35,
          35,
          45,
          44,
          54,
          52,
          56,
          60,
          60,
          67,
          61,
          76,
          96,
          85,
          101,
          104,
          90,
          95,
          107,
          143,
          89,
          94,
          68,
          57,
          64,
          55,
          57,
          52,
          34,
          43,
          47,
          52,
          68,
          62,
          67,
          83,
          72,
          62,
          77,
          64,
          67,
          88,
          72,
          111,
          80,
          43,
          57,
          39,
          38,
          31,
          58,
          41,
          51,
          51,
          39,
          48,
          53,
          46,
          69,
          63,
          73,
          84,
          87,
          93,
          89,
          92,
          76,
          89,
          66,
          68,
          59,
          71,
          70,
          65,
          54,
          67,
          44,
          56,
          53,
          45,
          32,
          29,
          36,
          28,
          24
         ],
         "yaxis": "y"
        },
        {
         "alignmentgroup": "True",
         "hovertemplate": "sex=F<br>year=%{x}<br>size=%{y}<extra></extra>",
         "legendgroup": "F",
         "marker": {
          "color": "#EF553B",
          "pattern": {
           "shape": ""
          }
         },
         "name": "F",
         "offsetgroup": "F",
         "orientation": "v",
         "showlegend": true,
         "textposition": "auto",
         "type": "bar",
         "x": [
          1884,
          1886,
          1888,
          1890,
          1895,
          1896,
          1897,
          1898,
          1899,
          1900,
          1901,
          1902,
          1903,
          1909,
          1910,
          1911,
          1912,
          1913,
          1914,
          1915,
          1916,
          1917,
          1918,
          1919,
          1920,
          1921,
          1922,
          1923,
          1924,
          1925,
          1926,
          1927,
          1928,
          1929,
          1931,
          1932,
          1933,
          1934,
          1935,
          1936,
          1937,
          1938,
          1939,
          1940,
          1942,
          1943,
          1944,
          1945,
          1946,
          1947,
          1948,
          1949,
          1950,
          1951,
          1952,
          1953,
          1954,
          1955,
          1956,
          1957,
          1958,
          1959,
          1960,
          1961,
          1962,
          1963,
          1964,
          1965,
          1966,
          1967,
          1968,
          1969,
          1970,
          1971,
          1972,
          1973,
          1974,
          1975,
          1976,
          1977,
          1978,
          1979,
          1980,
          1981,
          1982,
          1983
         ],
         "xaxis": "x",
         "y": [
          1,
          2,
          2,
          2,
          6,
          8,
          9,
          2,
          4,
          2,
          2,
          2,
          1,
          8,
          8,
          14,
          12,
          8,
          2,
          1,
          1,
          6,
          4,
          19,
          11,
          15,
          13,
          7,
          17,
          7,
          15,
          17,
          11,
          19,
          3,
          5,
          2,
          8,
          2,
          10,
          1,
          2,
          1,
          1,
          7,
          3,
          2,
          6,
          9,
          7,
          2,
          12,
          9,
          10,
          8,
          7,
          13,
          14,
          21,
          19,
          25,
          47,
          43,
          63,
          60,
          75,
          62,
          70,
          69,
          55,
          62,
          63,
          67,
          63,
          58,
          53,
          42,
          65,
          54,
          52,
          58,
          52,
          40,
          58,
          34,
          30
         ],
         "yaxis": "y"
        }
       ],
       "layout": {
        "barmode": "relative",
        "legend": {
         "title": {
          "text": "sex"
         },
         "tracegroupgap": 0
        },
        "margin": {
         "t": 60
        },
        "template": {
         "data": {
          "bar": [
           {
            "error_x": {
             "color": "#2a3f5f"
            },
            "error_y": {
             "color": "#2a3f5f"
            },
            "marker": {
             "line": {
              "color": "#E5ECF6",
              "width": 0.5
             },
             "pattern": {
              "fillmode": "overlay",
              "size": 10,
              "solidity": 0.2
             }
            },
            "type": "bar"
           }
          ],
          "barpolar": [
           {
            "marker": {
             "line": {
              "color": "#E5ECF6",
              "width": 0.5
             },
             "pattern": {
              "fillmode": "overlay",
              "size": 10,
              "solidity": 0.2
             }
            },
            "type": "barpolar"
           }
          ],
          "carpet": [
           {
            "aaxis": {
             "endlinecolor": "#2a3f5f",
             "gridcolor": "white",
             "linecolor": "white",
             "minorgridcolor": "white",
             "startlinecolor": "#2a3f5f"
            },
            "baxis": {
             "endlinecolor": "#2a3f5f",
             "gridcolor": "white",
             "linecolor": "white",
             "minorgridcolor": "white",
             "startlinecolor": "#2a3f5f"
            },
            "type": "carpet"
           }
          ],
          "choropleth": [
           {
            "colorbar": {
             "outlinewidth": 0,
             "ticks": ""
            },
            "type": "choropleth"
           }
          ],
          "contour": [
           {
            "colorbar": {
             "outlinewidth": 0,
             "ticks": ""
            },
            "colorscale": [
             [
              0,
              "#0d0887"
             ],
             [
              0.1111111111111111,
              "#46039f"
             ],
             [
              0.2222222222222222,
              "#7201a8"
             ],
             [
              0.3333333333333333,
              "#9c179e"
             ],
             [
              0.4444444444444444,
              "#bd3786"
             ],
             [
              0.5555555555555556,
              "#d8576b"
             ],
             [
              0.6666666666666666,
              "#ed7953"
             ],
             [
              0.7777777777777778,
              "#fb9f3a"
             ],
             [
              0.8888888888888888,
              "#fdca26"
             ],
             [
              1,
              "#f0f921"
             ]
            ],
            "type": "contour"
           }
          ],
          "contourcarpet": [
           {
            "colorbar": {
             "outlinewidth": 0,
             "ticks": ""
            },
            "type": "contourcarpet"
           }
          ],
          "heatmap": [
           {
            "colorbar": {
             "outlinewidth": 0,
             "ticks": ""
            },
            "colorscale": [
             [
              0,
              "#0d0887"
             ],
             [
              0.1111111111111111,
              "#46039f"
             ],
             [
              0.2222222222222222,
              "#7201a8"
             ],
             [
              0.3333333333333333,
              "#9c179e"
             ],
             [
              0.4444444444444444,
              "#bd3786"
             ],
             [
              0.5555555555555556,
              "#d8576b"
             ],
             [
              0.6666666666666666,
              "#ed7953"
             ],
             [
              0.7777777777777778,
              "#fb9f3a"
             ],
             [
              0.8888888888888888,
              "#fdca26"
             ],
             [
              1,
              "#f0f921"
             ]
            ],
            "type": "heatmap"
           }
          ],
          "heatmapgl": [
           {
            "colorbar": {
             "outlinewidth": 0,
             "ticks": ""
            },
            "colorscale": [
             [
              0,
              "#0d0887"
             ],
             [
              0.1111111111111111,
              "#46039f"
             ],
             [
              0.2222222222222222,
              "#7201a8"
             ],
             [
              0.3333333333333333,
              "#9c179e"
             ],
             [
              0.4444444444444444,
              "#bd3786"
             ],
             [
              0.5555555555555556,
              "#d8576b"
             ],
             [
              0.6666666666666666,
              "#ed7953"
             ],
             [
              0.7777777777777778,
              "#fb9f3a"
             ],
             [
              0.8888888888888888,
              "#fdca26"
             ],
             [
              1,
              "#f0f921"
             ]
            ],
            "type": "heatmapgl"
           }
          ],
          "histogram": [
           {
            "marker": {
             "pattern": {
              "fillmode": "overlay",
              "size": 10,
              "solidity": 0.2
             }
            },
            "type": "histogram"
           }
          ],
          "histogram2d": [
           {
            "colorbar": {
             "outlinewidth": 0,
             "ticks": ""
            },
            "colorscale": [
             [
              0,
              "#0d0887"
             ],
             [
              0.1111111111111111,
              "#46039f"
             ],
             [
              0.2222222222222222,
              "#7201a8"
             ],
             [
              0.3333333333333333,
              "#9c179e"
             ],
             [
              0.4444444444444444,
              "#bd3786"
             ],
             [
              0.5555555555555556,
              "#d8576b"
             ],
             [
              0.6666666666666666,
              "#ed7953"
             ],
             [
              0.7777777777777778,
              "#fb9f3a"
             ],
             [
              0.8888888888888888,
              "#fdca26"
             ],
             [
              1,
              "#f0f921"
             ]
            ],
            "type": "histogram2d"
           }
          ],
          "histogram2dcontour": [
           {
            "colorbar": {
             "outlinewidth": 0,
             "ticks": ""
            },
            "colorscale": [
             [
              0,
              "#0d0887"
             ],
             [
              0.1111111111111111,
              "#46039f"
             ],
             [
              0.2222222222222222,
              "#7201a8"
             ],
             [
              0.3333333333333333,
              "#9c179e"
             ],
             [
              0.4444444444444444,
              "#bd3786"
             ],
             [
              0.5555555555555556,
              "#d8576b"
             ],
             [
              0.6666666666666666,
              "#ed7953"
             ],
             [
              0.7777777777777778,
              "#fb9f3a"
             ],
             [
              0.8888888888888888,
              "#fdca26"
             ],
             [
              1,
              "#f0f921"
             ]
            ],
            "type": "histogram2dcontour"
           }
          ],
          "mesh3d": [
           {
            "colorbar": {
             "outlinewidth": 0,
             "ticks": ""
            },
            "type": "mesh3d"
           }
          ],
          "parcoords": [
           {
            "line": {
             "colorbar": {
              "outlinewidth": 0,
              "ticks": ""
             }
            },
            "type": "parcoords"
           }
          ],
          "pie": [
           {
            "automargin": true,
            "type": "pie"
           }
          ],
          "scatter": [
           {
            "fillpattern": {
             "fillmode": "overlay",
             "size": 10,
             "solidity": 0.2
            },
            "type": "scatter"
           }
          ],
          "scatter3d": [
           {
            "line": {
             "colorbar": {
              "outlinewidth": 0,
              "ticks": ""
             }
            },
            "marker": {
             "colorbar": {
              "outlinewidth": 0,
              "ticks": ""
             }
            },
            "type": "scatter3d"
           }
          ],
          "scattercarpet": [
           {
            "marker": {
             "colorbar": {
              "outlinewidth": 0,
              "ticks": ""
             }
            },
            "type": "scattercarpet"
           }
          ],
          "scattergeo": [
           {
            "marker": {
             "colorbar": {
              "outlinewidth": 0,
              "ticks": ""
             }
            },
            "type": "scattergeo"
           }
          ],
          "scattergl": [
           {
            "marker": {
             "colorbar": {
              "outlinewidth": 0,
              "ticks": ""
             }
            },
            "type": "scattergl"
           }
          ],
          "scattermapbox": [
           {
            "marker": {
             "colorbar": {
              "outlinewidth": 0,
              "ticks": ""
             }
            },
            "type": "scattermapbox"
           }
          ],
          "scatterpolar": [
           {
            "marker": {
             "colorbar": {
              "outlinewidth": 0,
              "ticks": ""
             }
            },
            "type": "scatterpolar"
           }
          ],
          "scatterpolargl": [
           {
            "marker": {
             "colorbar": {
              "outlinewidth": 0,
              "ticks": ""
             }
            },
            "type": "scatterpolargl"
           }
          ],
          "scatterternary": [
           {
            "marker": {
             "colorbar": {
              "outlinewidth": 0,
              "ticks": ""
             }
            },
            "type": "scatterternary"
           }
          ],
          "surface": [
           {
            "colorbar": {
             "outlinewidth": 0,
             "ticks": ""
            },
            "colorscale": [
             [
              0,
              "#0d0887"
             ],
             [
              0.1111111111111111,
              "#46039f"
             ],
             [
              0.2222222222222222,
              "#7201a8"
             ],
             [
              0.3333333333333333,
              "#9c179e"
             ],
             [
              0.4444444444444444,
              "#bd3786"
             ],
             [
              0.5555555555555556,
              "#d8576b"
             ],
             [
              0.6666666666666666,
              "#ed7953"
             ],
             [
              0.7777777777777778,
              "#fb9f3a"
             ],
             [
              0.8888888888888888,
              "#fdca26"
             ],
             [
              1,
              "#f0f921"
             ]
            ],
            "type": "surface"
           }
          ],
          "table": [
           {
            "cells": {
             "fill": {
              "color": "#EBF0F8"
             },
             "line": {
              "color": "white"
             }
            },
            "header": {
             "fill": {
              "color": "#C8D4E3"
             },
             "line": {
              "color": "white"
             }
            },
            "type": "table"
           }
          ]
         },
         "layout": {
          "annotationdefaults": {
           "arrowcolor": "#2a3f5f",
           "arrowhead": 0,
           "arrowwidth": 1
          },
          "autotypenumbers": "strict",
          "coloraxis": {
           "colorbar": {
            "outlinewidth": 0,
            "ticks": ""
           }
          },
          "colorscale": {
           "diverging": [
            [
             0,
             "#8e0152"
            ],
            [
             0.1,
             "#c51b7d"
            ],
            [
             0.2,
             "#de77ae"
            ],
            [
             0.3,
             "#f1b6da"
            ],
            [
             0.4,
             "#fde0ef"
            ],
            [
             0.5,
             "#f7f7f7"
            ],
            [
             0.6,
             "#e6f5d0"
            ],
            [
             0.7,
             "#b8e186"
            ],
            [
             0.8,
             "#7fbc41"
            ],
            [
             0.9,
             "#4d9221"
            ],
            [
             1,
             "#276419"
            ]
           ],
           "sequential": [
            [
             0,
             "#0d0887"
            ],
            [
             0.1111111111111111,
             "#46039f"
            ],
            [
             0.2222222222222222,
             "#7201a8"
            ],
            [
             0.3333333333333333,
             "#9c179e"
            ],
            [
             0.4444444444444444,
             "#bd3786"
            ],
            [
             0.5555555555555556,
             "#d8576b"
            ],
            [
             0.6666666666666666,
             "#ed7953"
            ],
            [
             0.7777777777777778,
             "#fb9f3a"
            ],
            [
             0.8888888888888888,
             "#fdca26"
            ],
            [
             1,
             "#f0f921"
            ]
           ],
           "sequentialminus": [
            [
             0,
             "#0d0887"
            ],
            [
             0.1111111111111111,
             "#46039f"
            ],
            [
             0.2222222222222222,
             "#7201a8"
            ],
            [
             0.3333333333333333,
             "#9c179e"
            ],
            [
             0.4444444444444444,
             "#bd3786"
            ],
            [
             0.5555555555555556,
             "#d8576b"
            ],
            [
             0.6666666666666666,
             "#ed7953"
            ],
            [
             0.7777777777777778,
             "#fb9f3a"
            ],
            [
             0.8888888888888888,
             "#fdca26"
            ],
            [
             1,
             "#f0f921"
            ]
           ]
          },
          "colorway": [
           "#636efa",
           "#EF553B",
           "#00cc96",
           "#ab63fa",
           "#FFA15A",
           "#19d3f3",
           "#FF6692",
           "#B6E880",
           "#FF97FF",
           "#FECB52"
          ],
          "font": {
           "color": "#2a3f5f"
          },
          "geo": {
           "bgcolor": "white",
           "lakecolor": "white",
           "landcolor": "#E5ECF6",
           "showlakes": true,
           "showland": true,
           "subunitcolor": "white"
          },
          "hoverlabel": {
           "align": "left"
          },
          "hovermode": "closest",
          "mapbox": {
           "style": "light"
          },
          "paper_bgcolor": "white",
          "plot_bgcolor": "#E5ECF6",
          "polar": {
           "angularaxis": {
            "gridcolor": "white",
            "linecolor": "white",
            "ticks": ""
           },
           "bgcolor": "#E5ECF6",
           "radialaxis": {
            "gridcolor": "white",
            "linecolor": "white",
            "ticks": ""
           }
          },
          "scene": {
           "xaxis": {
            "backgroundcolor": "#E5ECF6",
            "gridcolor": "white",
            "gridwidth": 2,
            "linecolor": "white",
            "showbackground": true,
            "ticks": "",
            "zerolinecolor": "white"
           },
           "yaxis": {
            "backgroundcolor": "#E5ECF6",
            "gridcolor": "white",
            "gridwidth": 2,
            "linecolor": "white",
            "showbackground": true,
            "ticks": "",
            "zerolinecolor": "white"
           },
           "zaxis": {
            "backgroundcolor": "#E5ECF6",
            "gridcolor": "white",
            "gridwidth": 2,
            "linecolor": "white",
            "showbackground": true,
            "ticks": "",
            "zerolinecolor": "white"
           }
          },
          "shapedefaults": {
           "line": {
            "color": "#2a3f5f"
           }
          },
          "ternary": {
           "aaxis": {
            "gridcolor": "white",
            "linecolor": "white",
            "ticks": ""
           },
           "baxis": {
            "gridcolor": "white",
            "linecolor": "white",
            "ticks": ""
           },
           "bgcolor": "#E5ECF6",
           "caxis": {
            "gridcolor": "white",
            "linecolor": "white",
            "ticks": ""
           }
          },
          "title": {
           "x": 0.05
          },
          "xaxis": {
           "automargin": true,
           "gridcolor": "white",
           "linecolor": "white",
           "ticks": "",
           "title": {
            "standoff": 15
           },
           "zerolinecolor": "white",
           "zerolinewidth": 2
          },
          "yaxis": {
           "automargin": true,
           "gridcolor": "white",
           "linecolor": "white",
           "ticks": "",
           "title": {
            "standoff": 15
           },
           "zerolinecolor": "white",
           "zerolinewidth": 2
          }
         }
        },
        "title": {
         "text": "Anatomy donors over time by sex"
        },
        "xaxis": {
         "anchor": "y",
         "domain": [
          0,
          1
         ],
         "title": {
          "text": "Year"
         }
        },
        "yaxis": {
         "anchor": "x",
         "domain": [
          0,
          1
         ],
         "title": {
          "text": "Count"
         }
        }
       }
      }
     },
     "metadata": {},
     "output_type": "display_data"
    }
   ],
   "source": [
    "grouped = data.groupby([\"year\", \"sex\"], as_index=False, observed=True).size()\n",
    "fig = px.bar(grouped, x=\"year\", y=\"size\", color=\"sex\", )\n",
    "fig.update_layout(\n",
    "    title=\"Anatomy donors over time by sex\",\n",
    "    xaxis_title=\"Year\",\n",
    "    yaxis_title=\"Count\",\n",
    "    # margin=dict(l=20, r=20, t=20, b=20)\n",
    ")\n",
    "\n",
    "# with open(\"out/data_by_sex.pdf\", \"wb\") as f:\n",
    "#     f.write(fig.to_image(format=\"pdf\"))\n",
    "\n",
    "fig.show()"
   ]
  },
  {
   "cell_type": "markdown",
   "metadata": {},
   "source": [
    "## Ensuring data completeness"
   ]
  },
  {
   "cell_type": "code",
   "execution_count": 6,
   "metadata": {},
   "outputs": [],
   "source": [
    "# Drop empty rows\n",
    "data = data.dropna(how=\"all\")"
   ]
  },
  {
   "cell_type": "markdown",
   "metadata": {},
   "source": [
    "### Investigating missing values"
   ]
  },
  {
   "cell_type": "code",
   "execution_count": 7,
   "metadata": {},
   "outputs": [
    {
     "data": {
      "text/plain": [
       "(7609, 10)"
      ]
     },
     "execution_count": 7,
     "metadata": {},
     "output_type": "execute_result"
    }
   ],
   "source": [
    "data.shape"
   ]
  },
  {
   "cell_type": "code",
   "execution_count": 8,
   "metadata": {},
   "outputs": [
    {
     "data": {
      "text/plain": [
       "year                        0\n",
       "id                          0\n",
       "sex                         5\n",
       "age                        10\n",
       "death_date               2436\n",
       "reception_date              0\n",
       "return_date_sepulture    1680\n",
       "burial_date              4408\n",
       "death_place                 6\n",
       "place_code                  0\n",
       "dtype: int64"
      ]
     },
     "execution_count": 8,
     "metadata": {},
     "output_type": "execute_result"
    }
   ],
   "source": [
    "data.isna().sum()"
   ]
  },
  {
   "cell_type": "markdown",
   "metadata": {},
   "source": [
    "As we cannot infer the ages or biological sex of the patients in the anatomy registers, we will simply remove the entries with missing values for these attributes."
   ]
  },
  {
   "cell_type": "code",
   "execution_count": 9,
   "metadata": {},
   "outputs": [],
   "source": [
    "data = data[~data[\"sex\"].isna() & ~data[\"age\"].isna()]"
   ]
  },
  {
   "cell_type": "markdown",
   "metadata": {},
   "source": [
    "As this project aims to perform a geographical analysis on the dataset, we will also choose to remove the 6 entries which are missing a place of death."
   ]
  },
  {
   "cell_type": "code",
   "execution_count": 10,
   "metadata": {},
   "outputs": [],
   "source": [
    "data = data[~data[\"death_place\"].isna()]"
   ]
  },
  {
   "cell_type": "markdown",
   "metadata": {},
   "source": [
    "### Imputing missing values"
   ]
  },
  {
   "cell_type": "markdown",
   "metadata": {},
   "source": [
    "We currently have about 2400 entries in the dataset which are missing values for `death_date`.\n",
    "\n",
    "One way to overcome this is to fill in the missing `death_date` values with the values from `reception_date`. We can do this because bodies were usually received into the custody of the university 2 to 3 days after the death of the patient, so the reception date of a body was always on or after the patient's date of death."
   ]
  },
  {
   "cell_type": "code",
   "execution_count": 11,
   "metadata": {},
   "outputs": [],
   "source": [
    "data[\"death_date\"] = data[\"death_date\"].fillna(data[\"reception_date\"])"
   ]
  },
  {
   "cell_type": "code",
   "execution_count": 12,
   "metadata": {},
   "outputs": [
    {
     "data": {
      "text/plain": [
       "year                        0\n",
       "id                          0\n",
       "sex                         0\n",
       "age                         0\n",
       "death_date                  0\n",
       "reception_date              0\n",
       "return_date_sepulture    1673\n",
       "burial_date              4394\n",
       "death_place                 0\n",
       "place_code                  0\n",
       "dtype: int64"
      ]
     },
     "execution_count": 12,
     "metadata": {},
     "output_type": "execute_result"
    }
   ],
   "source": [
    "data.isna().sum()"
   ]
  },
  {
   "cell_type": "code",
   "execution_count": 13,
   "metadata": {},
   "outputs": [
    {
     "data": {
      "text/plain": [
       "(7588, 10)"
      ]
     },
     "execution_count": 13,
     "metadata": {},
     "output_type": "execute_result"
    }
   ],
   "source": [
    "data.shape"
   ]
  },
  {
   "cell_type": "markdown",
   "metadata": {},
   "source": [
    "In the end we still have many missing values for `return_date_sepulture` and `burial_date`, however these should not impact our investigation too much for this research project."
   ]
  },
  {
   "cell_type": "markdown",
   "metadata": {},
   "source": [
    "## Ensuring data consistency "
   ]
  },
  {
   "cell_type": "markdown",
   "metadata": {},
   "source": [
    "When our program first imported the dataset, it tried to automatically detect what datatype each column was. The result of this automatic detection often clues us into potential data validation issues in the dataset; for example, if a column which should only hold integers gets parsed as a floating point number, chances are there are non-integer values present in the attribute. Let's see how our dataset was parsed."
   ]
  },
  {
   "cell_type": "code",
   "execution_count": 14,
   "metadata": {},
   "outputs": [
    {
     "data": {
      "text/plain": [
       "year                       int64\n",
       "id                       float64\n",
       "sex                       object\n",
       "age                      float64\n",
       "death_date                object\n",
       "reception_date            object\n",
       "return_date_sepulture     object\n",
       "burial_date               object\n",
       "death_place               object\n",
       "place_code                 int64\n",
       "dtype: object"
      ]
     },
     "execution_count": 14,
     "metadata": {},
     "output_type": "execute_result"
    }
   ],
   "source": [
    "data.dtypes"
   ]
  },
  {
   "cell_type": "markdown",
   "metadata": {},
   "source": [
    "There are a few things to note here:\n",
    "- `id` and `age` should be integers, and we should convert `id` into the index of our dataframe\n",
    "- `sex` and `place_code` can be parsed as categorical variables\n",
    "- The 4 date attributes should be stored as `datetime` objects"
   ]
  },
  {
   "cell_type": "markdown",
   "metadata": {},
   "source": [
    "### Converting attributes to integer types"
   ]
  },
  {
   "cell_type": "markdown",
   "metadata": {},
   "source": [
    "Let's first check why `age`, and `id` were parsed as floats rather than integers. Are there any non-integer values in these attributes?"
   ]
  },
  {
   "cell_type": "code",
   "execution_count": 15,
   "metadata": {},
   "outputs": [],
   "source": [
    "def can_convert_to_int(value):\n",
    "    if isinstance(value, float):\n",
    "        return value.is_integer()\n",
    "    try:\n",
    "        int(value)\n",
    "        return True\n",
    "    except ValueError:\n",
    "        return False"
   ]
  },
  {
   "cell_type": "code",
   "execution_count": 16,
   "metadata": {},
   "outputs": [
    {
     "data": {
      "text/html": [
       "<div>\n",
       "<style scoped>\n",
       "    .dataframe tbody tr th:only-of-type {\n",
       "        vertical-align: middle;\n",
       "    }\n",
       "\n",
       "    .dataframe tbody tr th {\n",
       "        vertical-align: top;\n",
       "    }\n",
       "\n",
       "    .dataframe thead th {\n",
       "        text-align: right;\n",
       "    }\n",
       "</style>\n",
       "<table border=\"1\" class=\"dataframe\">\n",
       "  <thead>\n",
       "    <tr style=\"text-align: right;\">\n",
       "      <th></th>\n",
       "      <th>year</th>\n",
       "      <th>id</th>\n",
       "      <th>sex</th>\n",
       "      <th>age</th>\n",
       "      <th>death_date</th>\n",
       "      <th>reception_date</th>\n",
       "      <th>return_date_sepulture</th>\n",
       "      <th>burial_date</th>\n",
       "      <th>death_place</th>\n",
       "      <th>place_code</th>\n",
       "    </tr>\n",
       "  </thead>\n",
       "  <tbody>\n",
       "    <tr>\n",
       "      <th>2044</th>\n",
       "      <td>1920</td>\n",
       "      <td>2044.5</td>\n",
       "      <td>M</td>\n",
       "      <td>0.0</td>\n",
       "      <td>18/6/1920</td>\n",
       "      <td>18/6/1920</td>\n",
       "      <td>14/1/1921</td>\n",
       "      <td>NaN</td>\n",
       "      <td>SOUTH SYDNEY WOMEN'S HOSPITAL</td>\n",
       "      <td>70</td>\n",
       "    </tr>\n",
       "    <tr>\n",
       "      <th>3333</th>\n",
       "      <td>1938</td>\n",
       "      <td>3330.5</td>\n",
       "      <td>M</td>\n",
       "      <td>0.0</td>\n",
       "      <td>8/12/1938</td>\n",
       "      <td>8/12/1938</td>\n",
       "      <td>[blank]</td>\n",
       "      <td>NaN</td>\n",
       "      <td>STILLBORN; Premature twin males received from ...</td>\n",
       "      <td>70</td>\n",
       "    </tr>\n",
       "    <tr>\n",
       "      <th>4050</th>\n",
       "      <td>1949</td>\n",
       "      <td>4046.5</td>\n",
       "      <td>M</td>\n",
       "      <td>0.0</td>\n",
       "      <td>13/7/1949</td>\n",
       "      <td>13/7/1949</td>\n",
       "      <td>NaN</td>\n",
       "      <td>7/6/1950</td>\n",
       "      <td>Briarways Private Hospital Guildford</td>\n",
       "      <td>70</td>\n",
       "    </tr>\n",
       "  </tbody>\n",
       "</table>\n",
       "</div>"
      ],
      "text/plain": [
       "      year      id sex  age death_date reception_date return_date_sepulture  \\\n",
       "2044  1920  2044.5   M  0.0  18/6/1920      18/6/1920             14/1/1921   \n",
       "3333  1938  3330.5   M  0.0  8/12/1938      8/12/1938               [blank]   \n",
       "4050  1949  4046.5   M  0.0  13/7/1949      13/7/1949                   NaN   \n",
       "\n",
       "     burial_date                                        death_place  \\\n",
       "2044         NaN                      SOUTH SYDNEY WOMEN'S HOSPITAL   \n",
       "3333         NaN  STILLBORN; Premature twin males received from ...   \n",
       "4050    7/6/1950               Briarways Private Hospital Guildford   \n",
       "\n",
       "      place_code  \n",
       "2044          70  \n",
       "3333          70  \n",
       "4050          70  "
      ]
     },
     "execution_count": 16,
     "metadata": {},
     "output_type": "execute_result"
    }
   ],
   "source": [
    "data[~data[\"id\"].apply(can_convert_to_int)]"
   ]
  },
  {
   "cell_type": "markdown",
   "metadata": {},
   "source": [
    "It seems there are three entries in the dataset which have non-integer values for `id`. Fixing these would require editing the id's for thousands of entries; instead, it is simpler and cleaner to just remove these rows. We then subsequently perform the datatype conversion and set the attribute as our index."
   ]
  },
  {
   "cell_type": "code",
   "execution_count": 17,
   "metadata": {},
   "outputs": [],
   "source": [
    "# Selecting only those rows which have integer id values\n",
    "data = data[data[\"id\"].apply(can_convert_to_int)]\n",
    "\n",
    "# Performing the data type conversion\n",
    "data[\"id\"] = data.loc[:, \"id\"].astype(\"int\")\n",
    "\n",
    "# Setting id as the index of the dataset\n",
    "data.set_index(\"id\", inplace=True)"
   ]
  },
  {
   "cell_type": "markdown",
   "metadata": {},
   "source": [
    "Now we check `age`."
   ]
  },
  {
   "cell_type": "code",
   "execution_count": 18,
   "metadata": {},
   "outputs": [
    {
     "data": {
      "text/html": [
       "<div>\n",
       "<style scoped>\n",
       "    .dataframe tbody tr th:only-of-type {\n",
       "        vertical-align: middle;\n",
       "    }\n",
       "\n",
       "    .dataframe tbody tr th {\n",
       "        vertical-align: top;\n",
       "    }\n",
       "\n",
       "    .dataframe thead th {\n",
       "        text-align: right;\n",
       "    }\n",
       "</style>\n",
       "<table border=\"1\" class=\"dataframe\">\n",
       "  <thead>\n",
       "    <tr style=\"text-align: right;\">\n",
       "      <th></th>\n",
       "      <th>year</th>\n",
       "      <th>sex</th>\n",
       "      <th>age</th>\n",
       "      <th>death_date</th>\n",
       "      <th>reception_date</th>\n",
       "      <th>return_date_sepulture</th>\n",
       "      <th>burial_date</th>\n",
       "      <th>death_place</th>\n",
       "      <th>place_code</th>\n",
       "    </tr>\n",
       "    <tr>\n",
       "      <th>id</th>\n",
       "      <th></th>\n",
       "      <th></th>\n",
       "      <th></th>\n",
       "      <th></th>\n",
       "      <th></th>\n",
       "      <th></th>\n",
       "      <th></th>\n",
       "      <th></th>\n",
       "      <th></th>\n",
       "    </tr>\n",
       "  </thead>\n",
       "  <tbody>\n",
       "  </tbody>\n",
       "</table>\n",
       "</div>"
      ],
      "text/plain": [
       "Empty DataFrame\n",
       "Columns: [year, sex, age, death_date, reception_date, return_date_sepulture, burial_date, death_place, place_code]\n",
       "Index: []"
      ]
     },
     "execution_count": 18,
     "metadata": {},
     "output_type": "execute_result"
    }
   ],
   "source": [
    "data[~data[\"age\"].apply(can_convert_to_int)]"
   ]
  },
  {
   "cell_type": "markdown",
   "metadata": {},
   "source": [
    "There are no entries in our dataset with non-integer values for `age`. The error, therefore, must have been in the original dataset (we may have dropped the erroneous rows in the data completeness section above). Let's update these datatypes."
   ]
  },
  {
   "cell_type": "code",
   "execution_count": 19,
   "metadata": {},
   "outputs": [],
   "source": [
    "data[\"year\"] = data[\"year\"].astype(\"int\")\n",
    "data[\"age\"] = data[\"age\"].astype(\"int\")"
   ]
  },
  {
   "cell_type": "markdown",
   "metadata": {},
   "source": [
    "### Converting attributes to categoricals"
   ]
  },
  {
   "cell_type": "markdown",
   "metadata": {},
   "source": [
    "Let's first convert the `sex` attribute to the `pd.Categorical` datatype. Simultaneously, we can validate that the dataset only contains two categories: `M` and `F`."
   ]
  },
  {
   "cell_type": "code",
   "execution_count": 20,
   "metadata": {},
   "outputs": [
    {
     "data": {
      "text/plain": [
       "['M', 'F']\n",
       "Categories (2, object): ['F', 'M']"
      ]
     },
     "execution_count": 20,
     "metadata": {},
     "output_type": "execute_result"
    }
   ],
   "source": [
    "data[\"sex\"] = data[\"sex\"].astype(\"category\")\n",
    "data[\"sex\"].unique()"
   ]
  },
  {
   "cell_type": "markdown",
   "metadata": {},
   "source": [
    "However, before we convert the `place_code` attribute, we should check why it was parsed in as floating point values in the first place. We will use the same function as above for this."
   ]
  },
  {
   "cell_type": "code",
   "execution_count": 21,
   "metadata": {},
   "outputs": [
    {
     "data": {
      "text/html": [
       "<div>\n",
       "<style scoped>\n",
       "    .dataframe tbody tr th:only-of-type {\n",
       "        vertical-align: middle;\n",
       "    }\n",
       "\n",
       "    .dataframe tbody tr th {\n",
       "        vertical-align: top;\n",
       "    }\n",
       "\n",
       "    .dataframe thead th {\n",
       "        text-align: right;\n",
       "    }\n",
       "</style>\n",
       "<table border=\"1\" class=\"dataframe\">\n",
       "  <thead>\n",
       "    <tr style=\"text-align: right;\">\n",
       "      <th></th>\n",
       "      <th>year</th>\n",
       "      <th>sex</th>\n",
       "      <th>age</th>\n",
       "      <th>death_date</th>\n",
       "      <th>reception_date</th>\n",
       "      <th>return_date_sepulture</th>\n",
       "      <th>burial_date</th>\n",
       "      <th>death_place</th>\n",
       "      <th>place_code</th>\n",
       "    </tr>\n",
       "    <tr>\n",
       "      <th>id</th>\n",
       "      <th></th>\n",
       "      <th></th>\n",
       "      <th></th>\n",
       "      <th></th>\n",
       "      <th></th>\n",
       "      <th></th>\n",
       "      <th></th>\n",
       "      <th></th>\n",
       "      <th></th>\n",
       "    </tr>\n",
       "  </thead>\n",
       "  <tbody>\n",
       "  </tbody>\n",
       "</table>\n",
       "</div>"
      ],
      "text/plain": [
       "Empty DataFrame\n",
       "Columns: [year, sex, age, death_date, reception_date, return_date_sepulture, burial_date, death_place, place_code]\n",
       "Index: []"
      ]
     },
     "execution_count": 21,
     "metadata": {},
     "output_type": "execute_result"
    }
   ],
   "source": [
    "data[~data[\"place_code\"].apply(can_convert_to_int)]"
   ]
  },
  {
   "cell_type": "markdown",
   "metadata": {},
   "source": [
    "The column does not seem to contain any floating point values. To ensure our categories are properly defined, though, we should first convert these values to `int`s and then `Categorical`s."
   ]
  },
  {
   "cell_type": "code",
   "execution_count": 22,
   "metadata": {},
   "outputs": [
    {
     "data": {
      "text/plain": [
       "[100, 23, 3, 11, 44, ..., 22, 8, 9, 7, 2]\n",
       "Length: 22\n",
       "Categories (22, int64): [1, 2, 3, 5, ..., 44, 70, 100, 101]"
      ]
     },
     "execution_count": 22,
     "metadata": {},
     "output_type": "execute_result"
    }
   ],
   "source": [
    "data[\"place_code\"] = data[\"place_code\"].astype(\"int\")\n",
    "data[\"place_code\"] = data[\"place_code\"].astype(\"category\")\n",
    "data[\"place_code\"].unique()"
   ]
  },
  {
   "cell_type": "markdown",
   "metadata": {},
   "source": [
    "### Converting attributes to datetime types"
   ]
  },
  {
   "cell_type": "markdown",
   "metadata": {},
   "source": [
    "#### Running regex verification"
   ]
  },
  {
   "cell_type": "markdown",
   "metadata": {},
   "source": [
    "Before we attempt to cast the values in the date columns, we must ensure the values do not contain any erroneous strings. This can cause problems in the casting process."
   ]
  },
  {
   "cell_type": "code",
   "execution_count": 23,
   "metadata": {},
   "outputs": [],
   "source": [
    "# Using regex to check for any values which contain more than just a date or a date out of range\n",
    "regex = \"^(0?[0-9]|[12]\\d|3[01])\\/(0?[0-9]|1[0-2])\\/(000\\d|00\\d{2}|0\\d{3}|1\\d{3}|2000)$\"\n",
    "sentinel = \"00/00/0000\"\n",
    "data_copy = data.fillna({\"death_date\": sentinel, \"reception_date\": sentinel, \"return_date_sepulture\": sentinel, \"burial_date\": sentinel})"
   ]
  },
  {
   "cell_type": "code",
   "execution_count": 24,
   "metadata": {},
   "outputs": [
    {
     "data": {
      "text/html": [
       "<div>\n",
       "<style scoped>\n",
       "    .dataframe tbody tr th:only-of-type {\n",
       "        vertical-align: middle;\n",
       "    }\n",
       "\n",
       "    .dataframe tbody tr th {\n",
       "        vertical-align: top;\n",
       "    }\n",
       "\n",
       "    .dataframe thead th {\n",
       "        text-align: right;\n",
       "    }\n",
       "</style>\n",
       "<table border=\"1\" class=\"dataframe\">\n",
       "  <thead>\n",
       "    <tr style=\"text-align: right;\">\n",
       "      <th></th>\n",
       "      <th>year</th>\n",
       "      <th>sex</th>\n",
       "      <th>age</th>\n",
       "      <th>death_date</th>\n",
       "      <th>reception_date</th>\n",
       "      <th>return_date_sepulture</th>\n",
       "      <th>burial_date</th>\n",
       "    </tr>\n",
       "    <tr>\n",
       "      <th>id</th>\n",
       "      <th></th>\n",
       "      <th></th>\n",
       "      <th></th>\n",
       "      <th></th>\n",
       "      <th></th>\n",
       "      <th></th>\n",
       "      <th></th>\n",
       "    </tr>\n",
       "  </thead>\n",
       "  <tbody>\n",
       "    <tr>\n",
       "      <th>1898</th>\n",
       "      <td>1919</td>\n",
       "      <td>M</td>\n",
       "      <td>81</td>\n",
       "      <td>25/1/2020</td>\n",
       "      <td>27/1/1919</td>\n",
       "      <td>8/7/1919</td>\n",
       "      <td>00/00/0000</td>\n",
       "    </tr>\n",
       "    <tr>\n",
       "      <th>5014</th>\n",
       "      <td>1961</td>\n",
       "      <td>M</td>\n",
       "      <td>76</td>\n",
       "      <td>26/87/1961</td>\n",
       "      <td>30/8/1961</td>\n",
       "      <td>00/00/0000</td>\n",
       "      <td>13/9/1962</td>\n",
       "    </tr>\n",
       "    <tr>\n",
       "      <th>5044</th>\n",
       "      <td>1961</td>\n",
       "      <td>F</td>\n",
       "      <td>80</td>\n",
       "      <td>20/11/9161</td>\n",
       "      <td>20/11/1961</td>\n",
       "      <td>00/00/0000</td>\n",
       "      <td>9/11/1962</td>\n",
       "    </tr>\n",
       "    <tr>\n",
       "      <th>7116</th>\n",
       "      <td>1977</td>\n",
       "      <td>F</td>\n",
       "      <td>90</td>\n",
       "      <td>5/101977</td>\n",
       "      <td>5/10/1977</td>\n",
       "      <td>18/10/1978</td>\n",
       "      <td>00/00/0000</td>\n",
       "    </tr>\n",
       "  </tbody>\n",
       "</table>\n",
       "</div>"
      ],
      "text/plain": [
       "      year sex  age  death_date reception_date return_date_sepulture  \\\n",
       "id                                                                     \n",
       "1898  1919   M   81   25/1/2020      27/1/1919              8/7/1919   \n",
       "5014  1961   M   76  26/87/1961      30/8/1961            00/00/0000   \n",
       "5044  1961   F   80  20/11/9161     20/11/1961            00/00/0000   \n",
       "7116  1977   F   90    5/101977      5/10/1977            18/10/1978   \n",
       "\n",
       "     burial_date  \n",
       "id                \n",
       "1898  00/00/0000  \n",
       "5014   13/9/1962  \n",
       "5044   9/11/1962  \n",
       "7116  00/00/0000  "
      ]
     },
     "execution_count": 24,
     "metadata": {},
     "output_type": "execute_result"
    }
   ],
   "source": [
    "data_copy[~data_copy[\"death_date\"].str.match(regex)].iloc[:, :7]"
   ]
  },
  {
   "cell_type": "code",
   "execution_count": 25,
   "metadata": {},
   "outputs": [
    {
     "data": {
      "text/html": [
       "<div>\n",
       "<style scoped>\n",
       "    .dataframe tbody tr th:only-of-type {\n",
       "        vertical-align: middle;\n",
       "    }\n",
       "\n",
       "    .dataframe tbody tr th {\n",
       "        vertical-align: top;\n",
       "    }\n",
       "\n",
       "    .dataframe thead th {\n",
       "        text-align: right;\n",
       "    }\n",
       "</style>\n",
       "<table border=\"1\" class=\"dataframe\">\n",
       "  <thead>\n",
       "    <tr style=\"text-align: right;\">\n",
       "      <th></th>\n",
       "      <th>year</th>\n",
       "      <th>sex</th>\n",
       "      <th>age</th>\n",
       "      <th>death_date</th>\n",
       "      <th>reception_date</th>\n",
       "      <th>return_date_sepulture</th>\n",
       "      <th>burial_date</th>\n",
       "    </tr>\n",
       "    <tr>\n",
       "      <th>id</th>\n",
       "      <th></th>\n",
       "      <th></th>\n",
       "      <th></th>\n",
       "      <th></th>\n",
       "      <th></th>\n",
       "      <th></th>\n",
       "      <th></th>\n",
       "    </tr>\n",
       "  </thead>\n",
       "  <tbody>\n",
       "    <tr>\n",
       "      <th>1727</th>\n",
       "      <td>1917</td>\n",
       "      <td>M</td>\n",
       "      <td>70</td>\n",
       "      <td>15/11/1917</td>\n",
       "      <td>missing</td>\n",
       "      <td>16/3/1918</td>\n",
       "      <td>00/00/0000</td>\n",
       "    </tr>\n",
       "    <tr>\n",
       "      <th>2408</th>\n",
       "      <td>1925</td>\n",
       "      <td>M</td>\n",
       "      <td>83</td>\n",
       "      <td>22/4/1925</td>\n",
       "      <td>23 /4/1925</td>\n",
       "      <td>31/7/1925</td>\n",
       "      <td>00/00/0000</td>\n",
       "    </tr>\n",
       "  </tbody>\n",
       "</table>\n",
       "</div>"
      ],
      "text/plain": [
       "      year sex  age  death_date reception_date return_date_sepulture  \\\n",
       "id                                                                     \n",
       "1727  1917   M   70  15/11/1917        missing             16/3/1918   \n",
       "2408  1925   M   83   22/4/1925     23 /4/1925             31/7/1925   \n",
       "\n",
       "     burial_date  \n",
       "id                \n",
       "1727  00/00/0000  \n",
       "2408  00/00/0000  "
      ]
     },
     "execution_count": 25,
     "metadata": {},
     "output_type": "execute_result"
    }
   ],
   "source": [
    "data_copy[~data_copy[\"reception_date\"].str.match(regex)].iloc[:, :7]\n"
   ]
  },
  {
   "cell_type": "code",
   "execution_count": 26,
   "metadata": {},
   "outputs": [
    {
     "data": {
      "text/html": [
       "<div>\n",
       "<style scoped>\n",
       "    .dataframe tbody tr th:only-of-type {\n",
       "        vertical-align: middle;\n",
       "    }\n",
       "\n",
       "    .dataframe tbody tr th {\n",
       "        vertical-align: top;\n",
       "    }\n",
       "\n",
       "    .dataframe thead th {\n",
       "        text-align: right;\n",
       "    }\n",
       "</style>\n",
       "<table border=\"1\" class=\"dataframe\">\n",
       "  <thead>\n",
       "    <tr style=\"text-align: right;\">\n",
       "      <th></th>\n",
       "      <th>year</th>\n",
       "      <th>sex</th>\n",
       "      <th>age</th>\n",
       "      <th>death_date</th>\n",
       "      <th>reception_date</th>\n",
       "      <th>return_date_sepulture</th>\n",
       "      <th>burial_date</th>\n",
       "    </tr>\n",
       "    <tr>\n",
       "      <th>id</th>\n",
       "      <th></th>\n",
       "      <th></th>\n",
       "      <th></th>\n",
       "      <th></th>\n",
       "      <th></th>\n",
       "      <th></th>\n",
       "      <th></th>\n",
       "    </tr>\n",
       "  </thead>\n",
       "  <tbody>\n",
       "    <tr>\n",
       "      <th>2432</th>\n",
       "      <td>1925</td>\n",
       "      <td>M</td>\n",
       "      <td>83</td>\n",
       "      <td>15/8/1925</td>\n",
       "      <td>18/8/1925</td>\n",
       "      <td>3 /12/1925</td>\n",
       "      <td>00/00/0000</td>\n",
       "    </tr>\n",
       "    <tr>\n",
       "      <th>2644</th>\n",
       "      <td>1929</td>\n",
       "      <td>F</td>\n",
       "      <td>0</td>\n",
       "      <td>20/3/1929</td>\n",
       "      <td>20/3/1929</td>\n",
       "      <td>crossed out 27/9/1929</td>\n",
       "      <td>00/00/0000</td>\n",
       "    </tr>\n",
       "    <tr>\n",
       "      <th>3176</th>\n",
       "      <td>1936</td>\n",
       "      <td>F</td>\n",
       "      <td>0</td>\n",
       "      <td>31/8/1936</td>\n",
       "      <td>31/8/1936</td>\n",
       "      <td>[blank]</td>\n",
       "      <td>00/00/0000</td>\n",
       "    </tr>\n",
       "    <tr>\n",
       "      <th>3179</th>\n",
       "      <td>1936</td>\n",
       "      <td>F</td>\n",
       "      <td>0</td>\n",
       "      <td>3/9/1936</td>\n",
       "      <td>3/9/1936</td>\n",
       "      <td>[blank]</td>\n",
       "      <td>00/00/0000</td>\n",
       "    </tr>\n",
       "    <tr>\n",
       "      <th>3181</th>\n",
       "      <td>1936</td>\n",
       "      <td>F</td>\n",
       "      <td>0</td>\n",
       "      <td>15/9/1936</td>\n",
       "      <td>15/9/1936</td>\n",
       "      <td>[blank]</td>\n",
       "      <td>00/00/0000</td>\n",
       "    </tr>\n",
       "    <tr>\n",
       "      <th>3182</th>\n",
       "      <td>1936</td>\n",
       "      <td>F</td>\n",
       "      <td>0</td>\n",
       "      <td>15/9/1936</td>\n",
       "      <td>15/9/1936</td>\n",
       "      <td>[blank]</td>\n",
       "      <td>00/00/0000</td>\n",
       "    </tr>\n",
       "    <tr>\n",
       "      <th>3184</th>\n",
       "      <td>1936</td>\n",
       "      <td>F</td>\n",
       "      <td>0</td>\n",
       "      <td>21/9/1936</td>\n",
       "      <td>21/9/1936</td>\n",
       "      <td>[blank]</td>\n",
       "      <td>00/00/0000</td>\n",
       "    </tr>\n",
       "    <tr>\n",
       "      <th>3185</th>\n",
       "      <td>1936</td>\n",
       "      <td>F</td>\n",
       "      <td>0</td>\n",
       "      <td>21/9/1936</td>\n",
       "      <td>21/9/1936</td>\n",
       "      <td>[blank]</td>\n",
       "      <td>00/00/0000</td>\n",
       "    </tr>\n",
       "    <tr>\n",
       "      <th>3203</th>\n",
       "      <td>1937</td>\n",
       "      <td>M</td>\n",
       "      <td>0</td>\n",
       "      <td>16/4/1937</td>\n",
       "      <td>16/4/1937</td>\n",
       "      <td>[blank]</td>\n",
       "      <td>00/00/0000</td>\n",
       "    </tr>\n",
       "    <tr>\n",
       "      <th>3330</th>\n",
       "      <td>1938</td>\n",
       "      <td>M</td>\n",
       "      <td>0</td>\n",
       "      <td>8/12/1938</td>\n",
       "      <td>8/12/1938</td>\n",
       "      <td>[blank]</td>\n",
       "      <td>00/00/0000</td>\n",
       "    </tr>\n",
       "    <tr>\n",
       "      <th>7368</th>\n",
       "      <td>1980</td>\n",
       "      <td>F</td>\n",
       "      <td>84</td>\n",
       "      <td>6/9/1980</td>\n",
       "      <td>6/9/1980</td>\n",
       "      <td>-</td>\n",
       "      <td>20/10/1981</td>\n",
       "    </tr>\n",
       "    <tr>\n",
       "      <th>7370</th>\n",
       "      <td>1980</td>\n",
       "      <td>M</td>\n",
       "      <td>81</td>\n",
       "      <td>11/9/1980</td>\n",
       "      <td>11/9/1980</td>\n",
       "      <td>-</td>\n",
       "      <td>22/10/1981</td>\n",
       "    </tr>\n",
       "    <tr>\n",
       "      <th>7372</th>\n",
       "      <td>1980</td>\n",
       "      <td>F</td>\n",
       "      <td>85</td>\n",
       "      <td>14/9/1980</td>\n",
       "      <td>15/9/1980</td>\n",
       "      <td>-</td>\n",
       "      <td>22/10/1981</td>\n",
       "    </tr>\n",
       "    <tr>\n",
       "      <th>7373</th>\n",
       "      <td>1980</td>\n",
       "      <td>F</td>\n",
       "      <td>79</td>\n",
       "      <td>16/9/1980</td>\n",
       "      <td>16/9/1980</td>\n",
       "      <td>-</td>\n",
       "      <td>16/10/1981</td>\n",
       "    </tr>\n",
       "  </tbody>\n",
       "</table>\n",
       "</div>"
      ],
      "text/plain": [
       "      year sex  age death_date reception_date  return_date_sepulture  \\\n",
       "id                                                                     \n",
       "2432  1925   M   83  15/8/1925      18/8/1925             3 /12/1925   \n",
       "2644  1929   F    0  20/3/1929      20/3/1929  crossed out 27/9/1929   \n",
       "3176  1936   F    0  31/8/1936      31/8/1936                [blank]   \n",
       "3179  1936   F    0   3/9/1936       3/9/1936                [blank]   \n",
       "3181  1936   F    0  15/9/1936      15/9/1936                [blank]   \n",
       "3182  1936   F    0  15/9/1936      15/9/1936                [blank]   \n",
       "3184  1936   F    0  21/9/1936      21/9/1936                [blank]   \n",
       "3185  1936   F    0  21/9/1936      21/9/1936                [blank]   \n",
       "3203  1937   M    0  16/4/1937      16/4/1937                [blank]   \n",
       "3330  1938   M    0  8/12/1938      8/12/1938                [blank]   \n",
       "7368  1980   F   84   6/9/1980       6/9/1980                      -   \n",
       "7370  1980   M   81  11/9/1980      11/9/1980                      -   \n",
       "7372  1980   F   85  14/9/1980      15/9/1980                      -   \n",
       "7373  1980   F   79  16/9/1980      16/9/1980                      -   \n",
       "\n",
       "     burial_date  \n",
       "id                \n",
       "2432  00/00/0000  \n",
       "2644  00/00/0000  \n",
       "3176  00/00/0000  \n",
       "3179  00/00/0000  \n",
       "3181  00/00/0000  \n",
       "3182  00/00/0000  \n",
       "3184  00/00/0000  \n",
       "3185  00/00/0000  \n",
       "3203  00/00/0000  \n",
       "3330  00/00/0000  \n",
       "7368  20/10/1981  \n",
       "7370  22/10/1981  \n",
       "7372  22/10/1981  \n",
       "7373  16/10/1981  "
      ]
     },
     "execution_count": 26,
     "metadata": {},
     "output_type": "execute_result"
    }
   ],
   "source": [
    "data_copy[~data_copy[\"return_date_sepulture\"].str.match(regex)].iloc[:, :7]"
   ]
  },
  {
   "cell_type": "code",
   "execution_count": 27,
   "metadata": {},
   "outputs": [
    {
     "data": {
      "text/html": [
       "<div>\n",
       "<style scoped>\n",
       "    .dataframe tbody tr th:only-of-type {\n",
       "        vertical-align: middle;\n",
       "    }\n",
       "\n",
       "    .dataframe tbody tr th {\n",
       "        vertical-align: top;\n",
       "    }\n",
       "\n",
       "    .dataframe thead th {\n",
       "        text-align: right;\n",
       "    }\n",
       "</style>\n",
       "<table border=\"1\" class=\"dataframe\">\n",
       "  <thead>\n",
       "    <tr style=\"text-align: right;\">\n",
       "      <th></th>\n",
       "      <th>year</th>\n",
       "      <th>sex</th>\n",
       "      <th>age</th>\n",
       "      <th>death_date</th>\n",
       "      <th>reception_date</th>\n",
       "      <th>return_date_sepulture</th>\n",
       "      <th>burial_date</th>\n",
       "    </tr>\n",
       "    <tr>\n",
       "      <th>id</th>\n",
       "      <th></th>\n",
       "      <th></th>\n",
       "      <th></th>\n",
       "      <th></th>\n",
       "      <th></th>\n",
       "      <th></th>\n",
       "      <th></th>\n",
       "    </tr>\n",
       "  </thead>\n",
       "  <tbody>\n",
       "    <tr>\n",
       "      <th>6726</th>\n",
       "      <td>1974</td>\n",
       "      <td>M</td>\n",
       "      <td>86</td>\n",
       "      <td>9/4/1974</td>\n",
       "      <td>9/4/1974</td>\n",
       "      <td>13/3/1975</td>\n",
       "      <td>4/4//1975</td>\n",
       "    </tr>\n",
       "  </tbody>\n",
       "</table>\n",
       "</div>"
      ],
      "text/plain": [
       "      year sex  age death_date reception_date return_date_sepulture  \\\n",
       "id                                                                    \n",
       "6726  1974   M   86   9/4/1974       9/4/1974             13/3/1975   \n",
       "\n",
       "     burial_date  \n",
       "id                \n",
       "6726   4/4//1975  "
      ]
     },
     "execution_count": 27,
     "metadata": {},
     "output_type": "execute_result"
    }
   ],
   "source": [
    "\n",
    "data_copy[~data_copy[\"burial_date\"].str.match(regex)].iloc[:, :7]"
   ]
  },
  {
   "cell_type": "markdown",
   "metadata": {},
   "source": [
    "As you can see, there are small data entry errors in some rows which would have prevented all 4 columns from being parsed properly. Let's fix these before performing the data type conversion."
   ]
  },
  {
   "cell_type": "code",
   "execution_count": 28,
   "metadata": {},
   "outputs": [],
   "source": [
    "# death_date\n",
    "data.loc[1898, \"death_date\"] = \"25/1/1919\" # checked manually\n",
    "data.loc[5014, \"death_date\"] = \"26/8/1961\" # checked manually\n",
    "data.loc[5044, \"death_date\"] = \"20/11/1961\" # checked manually\n",
    "data.loc[7116, \"death_date\"] = \"5/10/1977\" \n",
    "\n",
    "# reception_date\n",
    "data.loc[1727, \"reception_date\"] = pd.NA\n",
    "data.loc[2408, \"reception_date\"] = \"23/4/1925\" \n",
    "\n",
    "# return_date_sepulture\n",
    "data.loc[2432, \"return_date_sepulture\"] = \"3/12/1925\" \n",
    "data.loc[2644, \"return_date_sepulture\"] = \"27/09/1929\" \n",
    "data = data.replace([\"[blank]\", \"-\"], pd.NA)\n",
    "\n",
    "# burial_date\n",
    "data.loc[6726, \"burial_date\"] = \"4/4/1975\""
   ]
  },
  {
   "cell_type": "markdown",
   "metadata": {},
   "source": [
    "#### Some more niche errors"
   ]
  },
  {
   "cell_type": "markdown",
   "metadata": {},
   "source": [
    "Now let's retry converting our dates."
   ]
  },
  {
   "cell_type": "code",
   "execution_count": 29,
   "metadata": {},
   "outputs": [
    {
     "name": "stdout",
     "output_type": "stream",
     "text": [
      "day is out of range for month, at position 5405. You might want to try:\n",
      "    - passing `format` if your strings have a consistent format;\n",
      "    - passing `format='ISO8601'` if your strings are all ISO8601 but not necessarily in exactly the same format;\n",
      "    - passing `format='mixed'`, and the format will be inferred for each element individually. You might want to use `dayfirst` alongside this.\n"
     ]
    }
   ],
   "source": [
    "try:\n",
    "    data[\"death_date\"] = pd.to_datetime(data[\"death_date\"], format=\"%d/%m/%Y\")\n",
    "except Exception as e:\n",
    "    print(e)"
   ]
  },
  {
   "cell_type": "markdown",
   "metadata": {},
   "source": [
    "Now we are getting into the territory of more complex errors which manual searching or regular expression methods cannot pick up. It seems that at position 5405 in the dataframe there is an invalid date."
   ]
  },
  {
   "cell_type": "code",
   "execution_count": 30,
   "metadata": {},
   "outputs": [
    {
     "data": {
      "text/plain": [
       "year                                                                  1964\n",
       "sex                                                                      M\n",
       "age                                                                     78\n",
       "death_date                                                       31/6/1964\n",
       "reception_date                                                   31/5/1964\n",
       "return_date_sepulture                                            18/5/1965\n",
       "burial_date                                                      18/5/1965\n",
       "death_place              Lisieux CORR PRIVATE Hospital, Backhouse St, W...\n",
       "place_code                                                               1\n",
       "Name: 5424, dtype: object"
      ]
     },
     "execution_count": 30,
     "metadata": {},
     "output_type": "execute_result"
    }
   ],
   "source": [
    "data.iloc[5405]"
   ]
  },
  {
   "cell_type": "markdown",
   "metadata": {},
   "source": [
    "Indeed, June has but 30 days, so it is impossible for someone to have a recorded date of death as `31/06/1964`. Through looking at the `reception_date` we can infer that the entry is a typo and the death date was really meant to be `31/05/1964`."
   ]
  },
  {
   "cell_type": "code",
   "execution_count": 31,
   "metadata": {},
   "outputs": [],
   "source": [
    "data.iloc[5405, 3] = \"31/05/1964\""
   ]
  },
  {
   "cell_type": "markdown",
   "metadata": {},
   "source": [
    "Finally, let's convert all our 4 columns to datetime format."
   ]
  },
  {
   "cell_type": "code",
   "execution_count": 32,
   "metadata": {},
   "outputs": [],
   "source": [
    "data[\"death_date\"] = pd.to_datetime(data[\"death_date\"], format=\"%d/%m/%Y\")\n",
    "data[\"reception_date\"] = pd.to_datetime(data[\"reception_date\"], format=\"%d/%m/%Y\")\n",
    "data[\"return_date_sepulture\"] = pd.to_datetime(data[\"return_date_sepulture\"], format=\"%d/%m/%Y\")\n",
    "data[\"burial_date\"] = pd.to_datetime(data[\"burial_date\"], format=\"%d/%m/%Y\")"
   ]
  },
  {
   "cell_type": "code",
   "execution_count": 33,
   "metadata": {},
   "outputs": [
    {
     "data": {
      "text/plain": [
       "year                              int64\n",
       "sex                            category\n",
       "age                               int64\n",
       "death_date               datetime64[ns]\n",
       "reception_date           datetime64[ns]\n",
       "return_date_sepulture    datetime64[ns]\n",
       "burial_date              datetime64[ns]\n",
       "death_place                      object\n",
       "place_code                     category\n",
       "dtype: object"
      ]
     },
     "execution_count": 33,
     "metadata": {},
     "output_type": "execute_result"
    }
   ],
   "source": [
    "data.dtypes"
   ]
  },
  {
   "cell_type": "markdown",
   "metadata": {},
   "source": [
    "### Standardising place of death"
   ]
  },
  {
   "cell_type": "markdown",
   "metadata": {},
   "source": [
    "The `place_of_death` attribute spans numerous locations, including private addresses, aged care homes, private and public hospitals, public asylums, mental asylums, morgues, and more. As the records were all written and transcribed by hand, many of the errors you'd expect to find with manually annotated data are present in this column, for example, two different places of death which differ only by punctuation or spelling. This section deals with the standardisation of this part of the dataset.\n",
    "\n",
    "The main goal here is to clean up the existing entries into $n$ unique locations without any duplicates. That is, we want to combine all near duplicates of a location into one categorical value. So, for instance, we would want to combine the two entries \n",
    "\n",
    "- Community Hospital Long Jetty formerly 7 Gosford Rd The Entrance\n",
    "- Community Hospital Wyong Road Long Jetty\n",
    "\n",
    "into just \"Community Hospital Long Jetty\".\n",
    "\n",
    "Along the way we will also perform categorisation of the `place_of_death` entries so we can more easily analyse the spread of locations."
   ]
  },
  {
   "cell_type": "markdown",
   "metadata": {},
   "source": [
    "#### Basic cleaning"
   ]
  },
  {
   "cell_type": "markdown",
   "metadata": {},
   "source": [
    "Let's deal with the basic cleaning first:\n",
    "- Standardising capitalisation of all entries using title case\n",
    "- Removing all punctuation from the locations\n",
    "- Deleting any surrounding whitespace from the entries\n",
    "- Deleting any extra whitespace between words (each word should be delimited by exactly one space)"
   ]
  },
  {
   "cell_type": "code",
   "execution_count": 34,
   "metadata": {},
   "outputs": [],
   "source": [
    "data[\"death_place\"] = data[\"death_place\"].str.lower()\n",
    "data[\"death_place\"] = data[\"death_place\"].str.replace(r'[!\\\"#$%&\\'()*+,-./:;<=>?@\\[\\\\\\]^_`{|}~]', \"\", regex=True)\n",
    "data[\"death_place\"] = data[\"death_place\"].str.strip()"
   ]
  },
  {
   "cell_type": "code",
   "execution_count": 35,
   "metadata": {},
   "outputs": [],
   "source": [
    "def ensure_single_space(string: str):\n",
    "    return \" \".join(string.split())\n",
    "\n",
    "data[\"death_place\"] = data[\"death_place\"].apply(ensure_single_space)"
   ]
  },
  {
   "cell_type": "markdown",
   "metadata": {},
   "source": [
    "#### Trimming extra information"
   ]
  },
  {
   "cell_type": "markdown",
   "metadata": {},
   "source": [
    "\n",
    "As can be seen in the case above, some entries contain extra information which makes the similarity checking more inaccurate, such as the inclusion of where the site \"formerly\" existed. If we want to automate the de-duplication of the dataset, we will first have to remove these phrases from the entries. Below is a list of the phrases we will treat.\n",
    "\n",
    "- \"formerly\"\n",
    "- \"dead on arrival\"\n",
    "- \"died at\"\n",
    "- Compound-valued place of death conjoined through either \"and\" or \"then\""
   ]
  },
  {
   "cell_type": "code",
   "execution_count": 36,
   "metadata": {},
   "outputs": [],
   "source": [
    "# Remove any occurrences of \"formerly\" as well as the text following it\n",
    "data[\"death_place\"] = data[\"death_place\"].str.replace(r\"\\s?formerly.*$\", \"\", regex=True)\n",
    "\n",
    "# Remove any occurrences of \"dead on arrival\"\n",
    "data[\"death_place\"] = data[\"death_place\"].str.replace(r\"\\s?dead on arrival\\s?\", \"\", regex=True)\n",
    "\n",
    "# Remove any occurrences of \"died at\" at the start of the string\n",
    "data[\"death_place\"] = data[\"death_place\"].str.replace(r\"^(died at\\s?)\", \"\", regex=True)"
   ]
  },
  {
   "cell_type": "markdown",
   "metadata": {},
   "source": [
    "When dealing with conjoined places of death, any record that has ‘morgue’ in it should be attributed to the morgue, but otherwise the first entry should be regarded as place of death."
   ]
  },
  {
   "cell_type": "code",
   "execution_count": 37,
   "metadata": {},
   "outputs": [],
   "source": [
    "def clean_conjoined(loc: str):\n",
    "    if \" and \" in loc:\n",
    "        loc_split = loc.split(\" and \")\n",
    "        if \"morgue\" in loc_split[1]:\n",
    "            return loc_split[1]\n",
    "        else:\n",
    "            return loc_split[0]\n",
    "    \n",
    "    if \" then \" in loc:\n",
    "        loc_split = loc.split(\" then \")\n",
    "        if \"morgue\" in loc_split[1]:\n",
    "            return loc_split[1]\n",
    "        else:\n",
    "            return loc_split[0]\n",
    "    \n",
    "    return loc\n",
    "\n",
    "data[\"death_place\"] = data[\"death_place\"].apply(clean_conjoined)"
   ]
  },
  {
   "cell_type": "markdown",
   "metadata": {},
   "source": [
    "#### Categorising locations\n",
    "\n",
    "In this section, we aim to categorise entries based on the type of institution found in the `place_of_death` column. Below is the new key we will use to categorise entries. Note that some of the codes are reliant on the pre-existing `place_code` attribute.\n",
    "\n",
    "| Category             | Classification criteria                                                                                                                |\n",
    "|----------------------|----------------------------------------------------------------------------------------------------------------------------------------|\n",
    "| Private residence    | A private address (commencing with a street, flat, lot or unit number OR \"at home\") |\n",
    "| Aged care            | Locations containing \"Nursing\", \"Convalescent\", \"Aged Care\", \"Village\", \"Lodge\", \"Home\", \"Aged\"  + some known aged care institutions   |\n",
    "| Hospice              | Locations containing \"Hospice\" + some known hospices                                                                                   |\n",
    "| Private hospital     | Locations containing \"Private Hospital\" or \"surgery\"                                                                                   |\n",
    "| Public hospital      | All hospitals without \"private\" in their name, including district hospitals                                                            |\n",
    "| Public asylum        | Currently coded 12 + three special cases (Liverpool, George St, Rookwood)                                                              |\n",
    "| Public mental asylum | Currently coded 13 + locations containing \"mental asylum\" or \"psychiatric\"                                                             |\n",
    "| Aged 2 and under     | Currently coded 70                                                                                                                     |\n",
    "| Morgues              | Currently coded 6 + locations containing \"morgue\"                                                                                      |\n",
    "| Other                | Other                                                                                                                                  |"
   ]
  },
  {
   "cell_type": "code",
   "execution_count": 38,
   "metadata": {},
   "outputs": [],
   "source": [
    "data = data.sort_values(by=\"death_place\")\n",
    "data[\"death_place_category\"] = pd.NA"
   ]
  },
  {
   "cell_type": "markdown",
   "metadata": {},
   "source": [
    "##### Private residences"
   ]
  },
  {
   "cell_type": "code",
   "execution_count": 39,
   "metadata": {},
   "outputs": [],
   "source": [
    "# If the location starts with \"flat\", \"unit\", \"lot\", or contains \"at home\", it is a private residence\n",
    "private_residence_pattern = r\"^(?:flat|unit|lot)|\\bat home\\b\"\n",
    "\n",
    "# If the location starts with a digit, and also contains an address suffix, it is a private residence\n",
    "address_keywords = [\"avenue\", \"av\", \"ave\", \"boulevard\", \"bvd\", \"chase\", \"ch\", \"circuit\", \"cct\", \"close\", \"cl\", \"court\", \"ct\", \"crescent\", \"cr\", \"cres\", \"crest\", \"crst\", \"drive\", \"dr\", \"esplanade\", \"esp\", \"grange\", \"gra\", \"grove\", \"gr\", \"highway\", \"hwy\", \"lane\", \"la\", \"mall\", \"parade\", \"pde\", \"parkway\", \"pwy\", \"place\", \"pl\", \"road\", \"rd\", \"square\", \"sq\", \"street\", \"st\", \"terrace\", \"tce\", \"way\", \"walk\"]\n",
    "address_pattern = fr\"^\\d.*\\b(?:{'|'.join(address_keywords)})\\b\"\n",
    "\n",
    "data.loc[data[\"death_place\"].str.contains(private_residence_pattern), \"death_place_category\"] = \"private residence\"\n",
    "data.loc[data[\"death_place\"].str.contains(address_pattern) & data['death_place_category'].isna(), \"death_place_category\"] = \"private residence\""
   ]
  },
  {
   "cell_type": "markdown",
   "metadata": {},
   "source": [
    "##### Aged care"
   ]
  },
  {
   "cell_type": "code",
   "execution_count": 40,
   "metadata": {},
   "outputs": [],
   "source": [
    "aged_care_keywords = [\"nursing home\", \"convalescent\", \"aged care\", \"village\", \"lodge\", \"aged\", \"homes\", \"war veterans home\"]\n",
    "aged_care_pattern = \"|\".join(fr\"\\b{word}\\b\" for word in aged_care_keywords)\n",
    "\n",
    "query = data[\"death_place\"].str.contains(aged_care_pattern) & data[\"death_place_category\"].isna()\n",
    "data.loc[query, \"death_place_category\"] = \"aged care\""
   ]
  },
  {
   "cell_type": "markdown",
   "metadata": {},
   "source": [
    "##### Hospice"
   ]
  },
  {
   "cell_type": "code",
   "execution_count": 41,
   "metadata": {},
   "outputs": [],
   "source": [
    "data.loc[data[\"death_place\"].str.contains(\"hospice\") & data[\"death_place_category\"].isna(), \"death_place_category\"] = \"hospice\"\n",
    "data.loc[data[\"death_place\"].str.contains(\"home of peace\") & data[\"death_place_category\"].isna(), \"death_place_category\"] = \"hospice\"\n",
    "data.loc[data[\"death_place\"].str.contains(\"little sisters of the poor\") & data[\"death_place_category\"].isna(), \"death_place_category\"] = \"hospice\""
   ]
  },
  {
   "cell_type": "markdown",
   "metadata": {},
   "source": [
    "##### Private hospitals"
   ]
  },
  {
   "cell_type": "code",
   "execution_count": 42,
   "metadata": {},
   "outputs": [],
   "source": [
    "private_hospital_pattern = r\"\\bprivate\\b.*\\bhospital\\b|surgery\"\n",
    "data.loc[data[\"death_place\"].str.contains(private_hospital_pattern) & data[\"death_place_category\"].isna(), \"death_place_category\"] = \"private hospital\""
   ]
  },
  {
   "cell_type": "markdown",
   "metadata": {},
   "source": [
    "##### Public hospitals"
   ]
  },
  {
   "cell_type": "code",
   "execution_count": 43,
   "metadata": {},
   "outputs": [],
   "source": [
    "# Public hospitals are any leftover entries which contain \"hospital\" \n",
    "data.loc[data[\"death_place\"].str.contains(r\"\\bhospital\\b\") & data[\"death_place_category\"].isna(), \"death_place_category\"] = \"public hospital\""
   ]
  },
  {
   "cell_type": "markdown",
   "metadata": {},
   "source": [
    "##### Public asylums"
   ]
  },
  {
   "cell_type": "code",
   "execution_count": 44,
   "metadata": {},
   "outputs": [],
   "source": [
    "# Public asylums are all those currently coded 12\n",
    "data.loc[data[\"place_code\"] == 12, \"death_place_category\"] = \"public asylum\"\n",
    "\n",
    "# Three special cases\n",
    "data.loc[data[\"death_place\"].str.contains(r\"\\b(?:liverpool\\sasylum|george\\sstreet\\sasylum|rookwood\\sasylum)\\b\") & data[\"death_place_category\"].isna(), \"death_place_category\"] = \"public asylum\"\n"
   ]
  },
  {
   "cell_type": "markdown",
   "metadata": {},
   "source": [
    "##### Public mental asylums"
   ]
  },
  {
   "cell_type": "code",
   "execution_count": 45,
   "metadata": {},
   "outputs": [],
   "source": [
    "# Public mental asylums are currently coded 13\n",
    "data.loc[data[\"place_code\"] == 13, \"death_place_category\"] = \"public mental asylum\"\n",
    "\n",
    "# Include any entries containing \"mental asylum\"\n",
    "data.loc[data[\"death_place\"].str.contains(r\"\\bmental\\sasylum\\b\") & data[\"death_place_category\"].isna(), \"death_place_category\"] = \"public mental asylum\"\n",
    "\n",
    "# Include any entries containing \"psychiatric\"\n",
    "data.loc[data[\"death_place\"].str.contains(r\"\\bpsychiatric\\b\") & data[\"death_place_category\"].isna(), \"death_place_category\"] = \"public mental asylum\"\n"
   ]
  },
  {
   "cell_type": "markdown",
   "metadata": {},
   "source": [
    "##### Aged 2 and under"
   ]
  },
  {
   "cell_type": "code",
   "execution_count": 46,
   "metadata": {},
   "outputs": [],
   "source": [
    "# Patients who died under the age of 2 are currently coded 70\n",
    "data.loc[data[\"place_code\"] == 70, \"death_place_category\"] = \"aged 2 or under\""
   ]
  },
  {
   "cell_type": "markdown",
   "metadata": {},
   "source": [
    "##### Morgues"
   ]
  },
  {
   "cell_type": "code",
   "execution_count": 47,
   "metadata": {},
   "outputs": [],
   "source": [
    "# Patients who died in morgues are currently coded 6\n",
    "data.loc[data[\"place_code\"] == 6, \"death_place_category\"] = \"morgue\"\n",
    "\n",
    "# Also include any leftover entries containing \"morgue\"\n",
    "data.loc[data[\"death_place\"].str.contains(r\"\\bmorgue\\b\") & data[\"death_place_category\"].isna(), \"death_place_category\"] = \"morgue\""
   ]
  },
  {
   "cell_type": "markdown",
   "metadata": {},
   "source": [
    "##### Other"
   ]
  },
  {
   "cell_type": "code",
   "execution_count": 48,
   "metadata": {},
   "outputs": [],
   "source": [
    "# Fill in all remaining entries as \"other\"\n",
    "data[\"death_place_category\"] = data[\"death_place_category\"].fillna(\"other\")\n"
   ]
  },
  {
   "cell_type": "markdown",
   "metadata": {},
   "source": [
    "##### Categorising left-over \"dirty\" data "
   ]
  },
  {
   "cell_type": "markdown",
   "metadata": {},
   "source": [
    "Now that we have categorised our data to the best of our ability using keywords, let's examine what didn't get categorised (i.e. was categorised as \"other\"). This will show us what our algorithm above didn't pick up."
   ]
  },
  {
   "cell_type": "code",
   "execution_count": 49,
   "metadata": {},
   "outputs": [],
   "source": [
    "other = data[data[\"death_place_category\"] == \"other\"][[\"death_place\", \"death_place_category\"]]\n",
    "other.to_csv(\"out/category_other.csv\")"
   ]
  },
  {
   "cell_type": "markdown",
   "metadata": {},
   "source": [
    "On manual examination of the remaining entries, we can pick up a few trends:\n",
    "- Remaining entries beginning with a house number did not get picked up as `private residence` due to spelling mistakes and unusual or missing street names.\n",
    "- There are many records which are comprised of only a street name and a suburbl, or even just a suburb e.g. `albany st east gosford`, `blue mountains`. These should all be identified as `private residence`."
   ]
  },
  {
   "cell_type": "markdown",
   "metadata": {},
   "source": [
    "## Ensuring data validity"
   ]
  },
  {
   "cell_type": "markdown",
   "metadata": {},
   "source": [
    "Now that our dataset is **consistent** i.e. all the entries in each attribute are of the same datatype and format, and do not contain any duplicates, we can move onto checking whether the values in each attribute actually make sense in the context of the dataset.\n",
    "\n",
    "Note that `sex` has already been validated above."
   ]
  },
  {
   "cell_type": "markdown",
   "metadata": {},
   "source": [
    "### `year`\n",
    "\n",
    "The dataset should range from the year 1883 to 1984."
   ]
  },
  {
   "cell_type": "code",
   "execution_count": 50,
   "metadata": {},
   "outputs": [
    {
     "name": "stdout",
     "output_type": "stream",
     "text": [
      "min:  1883\n",
      "max:  1983\n"
     ]
    }
   ],
   "source": [
    "print(\"min: \", data[\"year\"].min())\n",
    "print(\"max: \", data[\"year\"].max())"
   ]
  },
  {
   "cell_type": "markdown",
   "metadata": {},
   "source": [
    "### `age`\n",
    "\n",
    "The ages in the dataset should range from 0 to about 115."
   ]
  },
  {
   "cell_type": "code",
   "execution_count": 51,
   "metadata": {},
   "outputs": [
    {
     "name": "stdout",
     "output_type": "stream",
     "text": [
      "min:  0\n",
      "max:  110\n"
     ]
    }
   ],
   "source": [
    "print(\"min: \", data[\"age\"].min())\n",
    "print(\"max: \", data[\"age\"].max())"
   ]
  },
  {
   "cell_type": "markdown",
   "metadata": {},
   "source": [
    "### The 4 `date` columns\n",
    "\n",
    "- The `death_date` and `reception_date` columns should range between 1883 and 1983 (there is no hard limit on the values for the other two death columns as the embalming period of bodies ranged between 12-18 months).\n",
    "- The difference between the `death_date` and `reception_date` of an entry should be no longer than 1 month.\n",
    "- The date of reception should be equal to or greater than the date of death.\n",
    "- For those entries which have values for `return_date_sepulture` and `burial_date`, the burial date should be equal to or greater than the return date."
   ]
  },
  {
   "cell_type": "markdown",
   "metadata": {},
   "source": [
    "#### Checking date range"
   ]
  },
  {
   "cell_type": "code",
   "execution_count": 52,
   "metadata": {},
   "outputs": [],
   "source": [
    "date_cols = [\"death_date\", \"reception_date\", \"return_date_sepulture\", \"burial_date\"]"
   ]
  },
  {
   "cell_type": "code",
   "execution_count": 53,
   "metadata": {},
   "outputs": [
    {
     "name": "stdout",
     "output_type": "stream",
     "text": [
      "max year in death_date > 1983\n"
     ]
    }
   ],
   "source": [
    "# Checking date range\n",
    "for col in date_cols[:2]:\n",
    "    if data[col].dt.year.min() < 1883: \n",
    "        print(f\"min year in {col} < 1883\")\n",
    "    if data[col].dt.year.max() > 1983:\n",
    "        print(f\"max year in {col} > 1983\")"
   ]
  },
  {
   "cell_type": "markdown",
   "metadata": {},
   "source": [
    "There is at least one entry in the dataset which has a death_death greater than 1984."
   ]
  },
  {
   "cell_type": "code",
   "execution_count": 54,
   "metadata": {},
   "outputs": [
    {
     "data": {
      "text/html": [
       "<div>\n",
       "<style scoped>\n",
       "    .dataframe tbody tr th:only-of-type {\n",
       "        vertical-align: middle;\n",
       "    }\n",
       "\n",
       "    .dataframe tbody tr th {\n",
       "        vertical-align: top;\n",
       "    }\n",
       "\n",
       "    .dataframe thead th {\n",
       "        text-align: right;\n",
       "    }\n",
       "</style>\n",
       "<table border=\"1\" class=\"dataframe\">\n",
       "  <thead>\n",
       "    <tr style=\"text-align: right;\">\n",
       "      <th></th>\n",
       "      <th>year</th>\n",
       "      <th>sex</th>\n",
       "      <th>age</th>\n",
       "      <th>death_date</th>\n",
       "      <th>reception_date</th>\n",
       "      <th>return_date_sepulture</th>\n",
       "      <th>burial_date</th>\n",
       "      <th>death_place</th>\n",
       "      <th>place_code</th>\n",
       "      <th>death_place_category</th>\n",
       "    </tr>\n",
       "    <tr>\n",
       "      <th>id</th>\n",
       "      <th></th>\n",
       "      <th></th>\n",
       "      <th></th>\n",
       "      <th></th>\n",
       "      <th></th>\n",
       "      <th></th>\n",
       "      <th></th>\n",
       "      <th></th>\n",
       "      <th></th>\n",
       "      <th></th>\n",
       "    </tr>\n",
       "  </thead>\n",
       "  <tbody>\n",
       "    <tr>\n",
       "      <th>339</th>\n",
       "      <td>1898</td>\n",
       "      <td>M</td>\n",
       "      <td>83</td>\n",
       "      <td>1989-09-10</td>\n",
       "      <td>1898-09-10</td>\n",
       "      <td>1898-11-07</td>\n",
       "      <td>NaT</td>\n",
       "      <td>rookwood asylum</td>\n",
       "      <td>15</td>\n",
       "      <td>public asylum</td>\n",
       "    </tr>\n",
       "    <tr>\n",
       "      <th>7567</th>\n",
       "      <td>1983</td>\n",
       "      <td>M</td>\n",
       "      <td>80</td>\n",
       "      <td>1984-03-25</td>\n",
       "      <td>1983-03-28</td>\n",
       "      <td>NaT</td>\n",
       "      <td>1985-07-02</td>\n",
       "      <td>ryde hospital denistone rd eastwood</td>\n",
       "      <td>1</td>\n",
       "      <td>public hospital</td>\n",
       "    </tr>\n",
       "  </tbody>\n",
       "</table>\n",
       "</div>"
      ],
      "text/plain": [
       "      year sex  age death_date reception_date return_date_sepulture  \\\n",
       "id                                                                    \n",
       "339   1898   M   83 1989-09-10     1898-09-10            1898-11-07   \n",
       "7567  1983   M   80 1984-03-25     1983-03-28                   NaT   \n",
       "\n",
       "     burial_date                          death_place place_code  \\\n",
       "id                                                                 \n",
       "339          NaT                      rookwood asylum         15   \n",
       "7567  1985-07-02  ryde hospital denistone rd eastwood          1   \n",
       "\n",
       "     death_place_category  \n",
       "id                         \n",
       "339         public asylum  \n",
       "7567      public hospital  "
      ]
     },
     "execution_count": 54,
     "metadata": {},
     "output_type": "execute_result"
    }
   ],
   "source": [
    "data[data[\"death_date\"].dt.year > 1983]"
   ]
  },
  {
   "cell_type": "code",
   "execution_count": 55,
   "metadata": {},
   "outputs": [],
   "source": [
    "# Fix the typos\n",
    "data.loc[339, \"death_date\"] = pd.to_datetime(\"1898-09-10\")\n",
    "data.loc[7567, \"death_date\"] = pd.to_datetime(\"1983-03-25\")"
   ]
  },
  {
   "cell_type": "markdown",
   "metadata": {},
   "source": [
    "#### Checking for nearby dates"
   ]
  },
  {
   "cell_type": "code",
   "execution_count": 56,
   "metadata": {},
   "outputs": [
    {
     "data": {
      "text/html": [
       "<div>\n",
       "<style scoped>\n",
       "    .dataframe tbody tr th:only-of-type {\n",
       "        vertical-align: middle;\n",
       "    }\n",
       "\n",
       "    .dataframe tbody tr th {\n",
       "        vertical-align: top;\n",
       "    }\n",
       "\n",
       "    .dataframe thead th {\n",
       "        text-align: right;\n",
       "    }\n",
       "</style>\n",
       "<table border=\"1\" class=\"dataframe\">\n",
       "  <thead>\n",
       "    <tr style=\"text-align: right;\">\n",
       "      <th></th>\n",
       "      <th>death_date</th>\n",
       "      <th>reception_date</th>\n",
       "    </tr>\n",
       "    <tr>\n",
       "      <th>id</th>\n",
       "      <th></th>\n",
       "      <th></th>\n",
       "    </tr>\n",
       "  </thead>\n",
       "  <tbody>\n",
       "    <tr>\n",
       "      <th>638</th>\n",
       "      <td>1905-03-31</td>\n",
       "      <td>1905-04-13</td>\n",
       "    </tr>\n",
       "    <tr>\n",
       "      <th>635</th>\n",
       "      <td>1905-03-31</td>\n",
       "      <td>1905-05-01</td>\n",
       "    </tr>\n",
       "    <tr>\n",
       "      <th>1560</th>\n",
       "      <td>1913-03-26</td>\n",
       "      <td>1916-03-27</td>\n",
       "    </tr>\n",
       "    <tr>\n",
       "      <th>1292</th>\n",
       "      <td>1913-06-07</td>\n",
       "      <td>1913-08-08</td>\n",
       "    </tr>\n",
       "    <tr>\n",
       "      <th>2042</th>\n",
       "      <td>1920-06-12</td>\n",
       "      <td>1920-06-25</td>\n",
       "    </tr>\n",
       "    <tr>\n",
       "      <th>2243</th>\n",
       "      <td>1922-09-22</td>\n",
       "      <td>1922-10-23</td>\n",
       "    </tr>\n",
       "    <tr>\n",
       "      <th>2449</th>\n",
       "      <td>1924-11-02</td>\n",
       "      <td>1925-11-04</td>\n",
       "    </tr>\n",
       "    <tr>\n",
       "      <th>4947</th>\n",
       "      <td>1961-05-01</td>\n",
       "      <td>1961-06-02</td>\n",
       "    </tr>\n",
       "    <tr>\n",
       "      <th>5139</th>\n",
       "      <td>1962-07-04</td>\n",
       "      <td>1962-07-25</td>\n",
       "    </tr>\n",
       "    <tr>\n",
       "      <th>6574</th>\n",
       "      <td>1962-09-22</td>\n",
       "      <td>1972-09-27</td>\n",
       "    </tr>\n",
       "    <tr>\n",
       "      <th>5210</th>\n",
       "      <td>1962-12-23</td>\n",
       "      <td>1963-01-03</td>\n",
       "    </tr>\n",
       "    <tr>\n",
       "      <th>5436</th>\n",
       "      <td>1964-05-14</td>\n",
       "      <td>1964-06-16</td>\n",
       "    </tr>\n",
       "    <tr>\n",
       "      <th>5503</th>\n",
       "      <td>1964-10-05</td>\n",
       "      <td>1964-11-06</td>\n",
       "    </tr>\n",
       "    <tr>\n",
       "      <th>6020</th>\n",
       "      <td>1967-07-14</td>\n",
       "      <td>1968-07-16</td>\n",
       "    </tr>\n",
       "    <tr>\n",
       "      <th>6235</th>\n",
       "      <td>1970-03-04</td>\n",
       "      <td>1970-04-03</td>\n",
       "    </tr>\n",
       "    <tr>\n",
       "      <th>6290</th>\n",
       "      <td>1970-08-01</td>\n",
       "      <td>1970-08-13</td>\n",
       "    </tr>\n",
       "    <tr>\n",
       "      <th>6471</th>\n",
       "      <td>1971-02-14</td>\n",
       "      <td>1971-12-15</td>\n",
       "    </tr>\n",
       "    <tr>\n",
       "      <th>6770</th>\n",
       "      <td>1974-04-27</td>\n",
       "      <td>1974-07-28</td>\n",
       "    </tr>\n",
       "    <tr>\n",
       "      <th>6873</th>\n",
       "      <td>1975-07-12</td>\n",
       "      <td>1976-07-14</td>\n",
       "    </tr>\n",
       "    <tr>\n",
       "      <th>7316</th>\n",
       "      <td>1979-10-19</td>\n",
       "      <td>1979-11-08</td>\n",
       "    </tr>\n",
       "  </tbody>\n",
       "</table>\n",
       "</div>"
      ],
      "text/plain": [
       "     death_date reception_date\n",
       "id                            \n",
       "638  1905-03-31     1905-04-13\n",
       "635  1905-03-31     1905-05-01\n",
       "1560 1913-03-26     1916-03-27\n",
       "1292 1913-06-07     1913-08-08\n",
       "2042 1920-06-12     1920-06-25\n",
       "2243 1922-09-22     1922-10-23\n",
       "2449 1924-11-02     1925-11-04\n",
       "4947 1961-05-01     1961-06-02\n",
       "5139 1962-07-04     1962-07-25\n",
       "6574 1962-09-22     1972-09-27\n",
       "5210 1962-12-23     1963-01-03\n",
       "5436 1964-05-14     1964-06-16\n",
       "5503 1964-10-05     1964-11-06\n",
       "6020 1967-07-14     1968-07-16\n",
       "6235 1970-03-04     1970-04-03\n",
       "6290 1970-08-01     1970-08-13\n",
       "6471 1971-02-14     1971-12-15\n",
       "6770 1974-04-27     1974-07-28\n",
       "6873 1975-07-12     1976-07-14\n",
       "7316 1979-10-19     1979-11-08"
      ]
     },
     "execution_count": 56,
     "metadata": {},
     "output_type": "execute_result"
    }
   ],
   "source": [
    "data[(data[\"reception_date\"] - data[\"death_date\"]).dt.days > 10][[\"death_date\", \"reception_date\"]].sort_values(by=\"death_date\")"
   ]
  },
  {
   "cell_type": "markdown",
   "metadata": {},
   "source": [
    "Upon checking the physical registers to confirm the true dates, a few errors were found around entry `638`. These are fixed below, along with other entries."
   ]
  },
  {
   "cell_type": "code",
   "execution_count": 57,
   "metadata": {},
   "outputs": [],
   "source": [
    "# Fixing entries around 638\n",
    "data.loc[635, \"reception_date\"] = pd.to_datetime(\"01/04/1905\", dayfirst=True)\n",
    "data.loc[636, \"death_date\"] = pd.to_datetime(\"03/04/1905\", dayfirst=True)\n",
    "data.loc[637, \"death_date\"] = pd.to_datetime(\"06/04/1905\", dayfirst=True)\n",
    "data.loc[638, \"death_date\"] = pd.to_datetime(\"12/04/1905\", dayfirst=True)\n",
    "\n",
    "data.loc[823, \"reception_date\"] = pd.to_datetime(\"21/4/1908\", dayfirst=True)\n",
    "data.loc[1292, \"reception_date\"] = pd.to_datetime(\"08/06/1913\", dayfirst=True)\n",
    "data.loc[1560, \"death_date\"] = pd.to_datetime(\"26/03/1916\", dayfirst=True)\n",
    "data.loc[2042, \"reception_date\"] = pd.to_datetime(\"15/06/1920\", dayfirst=True)\n",
    "data.loc[2243, \"death_date\"] = pd.to_datetime(\"22/10/1922\", dayfirst=True)\n",
    "data.loc[2449, \"death_date\"] = pd.to_datetime(\"02/11/1925\", dayfirst=True)\n",
    "data.loc[4947, \"reception_date\"] = pd.to_datetime(\"02/05/1961\", dayfirst=True)\n",
    "data.loc[5139, \"reception_date\"] = pd.to_datetime(\"05/07/1962\", dayfirst=True)\n",
    "# 5210: the dates are correct\n",
    "data.loc[5436, \"death_date\"] = pd.to_datetime(\"14/06/1964\", dayfirst=True)\n",
    "data.loc[5503, \"death_date\"] = pd.to_datetime(\"05/11/1964\", dayfirst=True)\n",
    "data.loc[6020, \"death_date\"] = pd.to_datetime(\"14/07/1968\", dayfirst=True)\n",
    "data.loc[6235, \"death_date\"] = pd.to_datetime(\"03/04/1970\", dayfirst=True)\n",
    "data.loc[6290, \"death_date\"] = pd.to_datetime(\"13/08/1970\", dayfirst=True)\n",
    "data.loc[6471, \"death_date\"] = pd.to_datetime(\"14/12/1971\", dayfirst=True)\n",
    "data.loc[6574, \"death_date\"] = pd.to_datetime(\"22/09/1972\", dayfirst=True)\n",
    "data.loc[6770, \"death_date\"] = pd.to_datetime(\"27/07/1974\", dayfirst=True)\n",
    "data.loc[6873, \"reception_date\"] = pd.to_datetime(\"14/07/1975\", dayfirst=True)\n",
    "# 7316: the dates are correct, and due to the considerable delay in receipt the body was unsuitable for use"
   ]
  },
  {
   "cell_type": "code",
   "execution_count": 58,
   "metadata": {},
   "outputs": [
    {
     "data": {
      "text/html": [
       "<div>\n",
       "<style scoped>\n",
       "    .dataframe tbody tr th:only-of-type {\n",
       "        vertical-align: middle;\n",
       "    }\n",
       "\n",
       "    .dataframe tbody tr th {\n",
       "        vertical-align: top;\n",
       "    }\n",
       "\n",
       "    .dataframe thead th {\n",
       "        text-align: right;\n",
       "    }\n",
       "</style>\n",
       "<table border=\"1\" class=\"dataframe\">\n",
       "  <thead>\n",
       "    <tr style=\"text-align: right;\">\n",
       "      <th></th>\n",
       "      <th>return_date_sepulture</th>\n",
       "      <th>burial_date</th>\n",
       "    </tr>\n",
       "    <tr>\n",
       "      <th>id</th>\n",
       "      <th></th>\n",
       "      <th></th>\n",
       "    </tr>\n",
       "  </thead>\n",
       "  <tbody>\n",
       "    <tr>\n",
       "      <th>5340</th>\n",
       "      <td>1964-04-04</td>\n",
       "      <td>1964-06-04</td>\n",
       "    </tr>\n",
       "    <tr>\n",
       "      <th>5628</th>\n",
       "      <td>1966-10-30</td>\n",
       "      <td>1966-11-30</td>\n",
       "    </tr>\n",
       "    <tr>\n",
       "      <th>5780</th>\n",
       "      <td>1966-10-31</td>\n",
       "      <td>1967-10-31</td>\n",
       "    </tr>\n",
       "    <tr>\n",
       "      <th>5775</th>\n",
       "      <td>1968-05-16</td>\n",
       "      <td>1968-06-16</td>\n",
       "    </tr>\n",
       "    <tr>\n",
       "      <th>7390</th>\n",
       "      <td>1982-02-08</td>\n",
       "      <td>1982-03-19</td>\n",
       "    </tr>\n",
       "    <tr>\n",
       "      <th>7345</th>\n",
       "      <td>1981-06-25</td>\n",
       "      <td>1982-06-29</td>\n",
       "    </tr>\n",
       "    <tr>\n",
       "      <th>7476</th>\n",
       "      <td>1983-05-23</td>\n",
       "      <td>1983-07-15</td>\n",
       "    </tr>\n",
       "    <tr>\n",
       "      <th>7528</th>\n",
       "      <td>1984-08-30</td>\n",
       "      <td>1984-10-04</td>\n",
       "    </tr>\n",
       "  </tbody>\n",
       "</table>\n",
       "</div>"
      ],
      "text/plain": [
       "     return_date_sepulture burial_date\n",
       "id                                    \n",
       "5340            1964-04-04  1964-06-04\n",
       "5628            1966-10-30  1966-11-30\n",
       "5780            1966-10-31  1967-10-31\n",
       "5775            1968-05-16  1968-06-16\n",
       "7390            1982-02-08  1982-03-19\n",
       "7345            1981-06-25  1982-06-29\n",
       "7476            1983-05-23  1983-07-15\n",
       "7528            1984-08-30  1984-10-04"
      ]
     },
     "execution_count": 58,
     "metadata": {},
     "output_type": "execute_result"
    }
   ],
   "source": [
    "data[(data[\"burial_date\"] - data[\"return_date_sepulture\"]).dt.days > 30][[\"return_date_sepulture\", \"burial_date\"]].sort_values(by=\"burial_date\")"
   ]
  },
  {
   "cell_type": "markdown",
   "metadata": {},
   "source": [
    "Due to the bodies having been embalmed, it is possible for the difference between the return date and burial date to be greater than one month. Also, delays often occured when the body was returned back to the family for burial."
   ]
  },
  {
   "cell_type": "code",
   "execution_count": 59,
   "metadata": {},
   "outputs": [],
   "source": [
    "data.loc[5340, \"burial_date\"] = pd.to_datetime(\"04/04/1964\", dayfirst=True)\n",
    "# 5628: dates are correct, the delay was due to the body being buried\n",
    "# 5775: \n",
    "data.loc[5780, \"return_date_sepulture\"] = pd.to_datetime(\"21/10/1967\", dayfirst=True)\n",
    "data.loc[7345, \"return_date_sepulture\"] = pd.to_datetime(\"25/6/1982\", dayfirst=True)\n",
    "# 7390: dates are correct \n",
    "# 7476: dates are correct \n",
    "# 7528: dates are correct\n"
   ]
  },
  {
   "cell_type": "markdown",
   "metadata": {},
   "source": [
    "#### Checking for sequential dates"
   ]
  },
  {
   "cell_type": "markdown",
   "metadata": {},
   "source": [
    "Note that as the data was annotated and collected by hand, small variations between the pairs of dates are not uncommon – in these cases we will simply fix the dates to ensure `death_date` <= `reception_date` and `return_date_sepulture` <= `burial_date`."
   ]
  },
  {
   "cell_type": "code",
   "execution_count": 60,
   "metadata": {},
   "outputs": [
    {
     "data": {
      "text/html": [
       "<div>\n",
       "<style scoped>\n",
       "    .dataframe tbody tr th:only-of-type {\n",
       "        vertical-align: middle;\n",
       "    }\n",
       "\n",
       "    .dataframe tbody tr th {\n",
       "        vertical-align: top;\n",
       "    }\n",
       "\n",
       "    .dataframe thead th {\n",
       "        text-align: right;\n",
       "    }\n",
       "</style>\n",
       "<table border=\"1\" class=\"dataframe\">\n",
       "  <thead>\n",
       "    <tr style=\"text-align: right;\">\n",
       "      <th></th>\n",
       "      <th>death_date</th>\n",
       "      <th>reception_date</th>\n",
       "    </tr>\n",
       "    <tr>\n",
       "      <th>id</th>\n",
       "      <th></th>\n",
       "      <th></th>\n",
       "    </tr>\n",
       "  </thead>\n",
       "  <tbody>\n",
       "    <tr>\n",
       "      <th>600</th>\n",
       "      <td>1904-07-20</td>\n",
       "      <td>1904-06-22</td>\n",
       "    </tr>\n",
       "    <tr>\n",
       "      <th>647</th>\n",
       "      <td>1905-05-26</td>\n",
       "      <td>1905-04-27</td>\n",
       "    </tr>\n",
       "    <tr>\n",
       "      <th>839</th>\n",
       "      <td>1908-06-12</td>\n",
       "      <td>1908-06-11</td>\n",
       "    </tr>\n",
       "    <tr>\n",
       "      <th>964</th>\n",
       "      <td>1910-03-30</td>\n",
       "      <td>1910-03-21</td>\n",
       "    </tr>\n",
       "    <tr>\n",
       "      <th>1283</th>\n",
       "      <td>1913-05-21</td>\n",
       "      <td>1913-05-20</td>\n",
       "    </tr>\n",
       "    <tr>\n",
       "      <th>1617</th>\n",
       "      <td>1916-08-19</td>\n",
       "      <td>1916-08-10</td>\n",
       "    </tr>\n",
       "    <tr>\n",
       "      <th>1631</th>\n",
       "      <td>1917-02-10</td>\n",
       "      <td>1917-01-11</td>\n",
       "    </tr>\n",
       "    <tr>\n",
       "      <th>1689</th>\n",
       "      <td>1917-07-08</td>\n",
       "      <td>1917-07-05</td>\n",
       "    </tr>\n",
       "    <tr>\n",
       "      <th>1877</th>\n",
       "      <td>1919-10-24</td>\n",
       "      <td>1918-10-25</td>\n",
       "    </tr>\n",
       "    <tr>\n",
       "      <th>2004</th>\n",
       "      <td>1920-01-25</td>\n",
       "      <td>1920-01-24</td>\n",
       "    </tr>\n",
       "    <tr>\n",
       "      <th>2286</th>\n",
       "      <td>1923-06-19</td>\n",
       "      <td>1923-06-18</td>\n",
       "    </tr>\n",
       "    <tr>\n",
       "      <th>2686</th>\n",
       "      <td>1929-09-11</td>\n",
       "      <td>1929-09-02</td>\n",
       "    </tr>\n",
       "    <tr>\n",
       "      <th>3760</th>\n",
       "      <td>1943-12-18</td>\n",
       "      <td>1943-12-14</td>\n",
       "    </tr>\n",
       "    <tr>\n",
       "      <th>3762</th>\n",
       "      <td>1943-12-19</td>\n",
       "      <td>1943-12-18</td>\n",
       "    </tr>\n",
       "    <tr>\n",
       "      <th>4988</th>\n",
       "      <td>1961-07-06</td>\n",
       "      <td>1961-07-05</td>\n",
       "    </tr>\n",
       "    <tr>\n",
       "      <th>5036</th>\n",
       "      <td>1961-10-23</td>\n",
       "      <td>1951-10-23</td>\n",
       "    </tr>\n",
       "    <tr>\n",
       "      <th>5278</th>\n",
       "      <td>1964-05-28</td>\n",
       "      <td>1963-05-29</td>\n",
       "    </tr>\n",
       "    <tr>\n",
       "      <th>6067</th>\n",
       "      <td>1968-11-14</td>\n",
       "      <td>1968-11-11</td>\n",
       "    </tr>\n",
       "    <tr>\n",
       "      <th>6079</th>\n",
       "      <td>1968-12-11</td>\n",
       "      <td>1968-02-13</td>\n",
       "    </tr>\n",
       "    <tr>\n",
       "      <th>6082</th>\n",
       "      <td>1968-12-28</td>\n",
       "      <td>1968-12-27</td>\n",
       "    </tr>\n",
       "    <tr>\n",
       "      <th>6722</th>\n",
       "      <td>1974-04-26</td>\n",
       "      <td>1974-03-27</td>\n",
       "    </tr>\n",
       "    <tr>\n",
       "      <th>6996</th>\n",
       "      <td>1976-09-07</td>\n",
       "      <td>1976-04-08</td>\n",
       "    </tr>\n",
       "    <tr>\n",
       "      <th>7278</th>\n",
       "      <td>1979-06-08</td>\n",
       "      <td>1979-06-04</td>\n",
       "    </tr>\n",
       "  </tbody>\n",
       "</table>\n",
       "</div>"
      ],
      "text/plain": [
       "     death_date reception_date\n",
       "id                            \n",
       "600  1904-07-20     1904-06-22\n",
       "647  1905-05-26     1905-04-27\n",
       "839  1908-06-12     1908-06-11\n",
       "964  1910-03-30     1910-03-21\n",
       "1283 1913-05-21     1913-05-20\n",
       "1617 1916-08-19     1916-08-10\n",
       "1631 1917-02-10     1917-01-11\n",
       "1689 1917-07-08     1917-07-05\n",
       "1877 1919-10-24     1918-10-25\n",
       "2004 1920-01-25     1920-01-24\n",
       "2286 1923-06-19     1923-06-18\n",
       "2686 1929-09-11     1929-09-02\n",
       "3760 1943-12-18     1943-12-14\n",
       "3762 1943-12-19     1943-12-18\n",
       "4988 1961-07-06     1961-07-05\n",
       "5036 1961-10-23     1951-10-23\n",
       "5278 1964-05-28     1963-05-29\n",
       "6067 1968-11-14     1968-11-11\n",
       "6079 1968-12-11     1968-02-13\n",
       "6082 1968-12-28     1968-12-27\n",
       "6722 1974-04-26     1974-03-27\n",
       "6996 1976-09-07     1976-04-08\n",
       "7278 1979-06-08     1979-06-04"
      ]
     },
     "execution_count": 60,
     "metadata": {},
     "output_type": "execute_result"
    }
   ],
   "source": [
    "data[data[\"death_date\"] > data[\"reception_date\"]][[\"death_date\", \"reception_date\"]].sort_values(by=\"death_date\")"
   ]
  },
  {
   "cell_type": "code",
   "execution_count": 61,
   "metadata": {},
   "outputs": [],
   "source": [
    "# Note: when there is doubt in these cases, the reception_date is assumed as correct.\n",
    "data.loc[600, \"death_date\"] = pd.to_datetime(\"1904-06-20\")\n",
    "data.loc[647, \"death_date\"] = pd.to_datetime(\"1905-04-26\")\n",
    "data.loc[839, \"death_date\"] = pd.to_datetime(\"1908-06-11\")\n",
    "data.loc[964, \"reception_date\"] = pd.to_datetime(\"1910-03-31\")\n",
    "data.loc[1283, \"death_date\"] = pd.to_datetime(\"1913-05-20\")\n",
    "data.loc[1617, \"death_date\"] = pd.to_datetime(\"1916-08-09\")\n",
    "data.loc[1631, \"death_date\"] = pd.to_datetime(\"1917-01-10\")\n",
    "data.loc[1689, \"reception_date\"] = pd.to_datetime(\"1917-07-09\")\n",
    "data.loc[1877, \"death_date\"] = pd.to_datetime(\"1918-10-24\")\n",
    "data.loc[2004, \"death_date\"] = pd.to_datetime(\"1920-01-24\")\n",
    "data.loc[2286, \"death_date\"] = pd.to_datetime(\"1923-06-18\")\n",
    "data.loc[2686, \"reception_date\"] = pd.to_datetime(\"1929-09-12\")\n",
    "data.loc[3760, \"death_date\"] = pd.to_datetime(\"1943-12-14\")\n",
    "data.loc[3762, \"death_date\"] = pd.to_datetime(\"1943-12-18\")\n",
    "data.loc[4988, \"death_date\"] = pd.to_datetime(\"1961-07-05\")\n",
    "data.loc[5036, \"reception_date\"] = pd.to_datetime(\"1961-10-23\")\n",
    "data.loc[5278, \"death_date\"] = pd.to_datetime(\"1963-05-28\")\n",
    "data.loc[6067, \"death_date\"] = pd.to_datetime(\"1968-11-11\")\n",
    "data.loc[6079, \"reception_date\"] = pd.to_datetime(\"1968-12-13\")\n",
    "data.loc[6082, \"death_date\"] = pd.to_datetime(\"1968-12-27\")\n",
    "data.loc[6722, \"death_date\"] = pd.to_datetime(\"1974-03-26\")\n",
    "data.loc[6996, \"reception_date\"] = pd.to_datetime(\"1976-09-08\")\n",
    "data.loc[7278, \"death_date\"] = pd.to_datetime(\"1979-06-04\")\n",
    "data.loc[7567, \"death_date\"] = pd.to_datetime(\"1983-03-25\")"
   ]
  },
  {
   "cell_type": "code",
   "execution_count": 62,
   "metadata": {},
   "outputs": [
    {
     "data": {
      "text/html": [
       "<div>\n",
       "<style scoped>\n",
       "    .dataframe tbody tr th:only-of-type {\n",
       "        vertical-align: middle;\n",
       "    }\n",
       "\n",
       "    .dataframe tbody tr th {\n",
       "        vertical-align: top;\n",
       "    }\n",
       "\n",
       "    .dataframe thead th {\n",
       "        text-align: right;\n",
       "    }\n",
       "</style>\n",
       "<table border=\"1\" class=\"dataframe\">\n",
       "  <thead>\n",
       "    <tr style=\"text-align: right;\">\n",
       "      <th></th>\n",
       "      <th>death_date</th>\n",
       "      <th>reception_date</th>\n",
       "    </tr>\n",
       "    <tr>\n",
       "      <th>id</th>\n",
       "      <th></th>\n",
       "      <th></th>\n",
       "    </tr>\n",
       "  </thead>\n",
       "  <tbody>\n",
       "  </tbody>\n",
       "</table>\n",
       "</div>"
      ],
      "text/plain": [
       "Empty DataFrame\n",
       "Columns: [death_date, reception_date]\n",
       "Index: []"
      ]
     },
     "execution_count": 62,
     "metadata": {},
     "output_type": "execute_result"
    }
   ],
   "source": [
    "# Checking we have fixed all errors\n",
    "data[data[\"death_date\"] > data[\"reception_date\"]][[\"death_date\", \"reception_date\"]].sort_values(by=\"death_date\")"
   ]
  },
  {
   "cell_type": "code",
   "execution_count": 63,
   "metadata": {},
   "outputs": [
    {
     "data": {
      "text/html": [
       "<div>\n",
       "<style scoped>\n",
       "    .dataframe tbody tr th:only-of-type {\n",
       "        vertical-align: middle;\n",
       "    }\n",
       "\n",
       "    .dataframe tbody tr th {\n",
       "        vertical-align: top;\n",
       "    }\n",
       "\n",
       "    .dataframe thead th {\n",
       "        text-align: right;\n",
       "    }\n",
       "</style>\n",
       "<table border=\"1\" class=\"dataframe\">\n",
       "  <thead>\n",
       "    <tr style=\"text-align: right;\">\n",
       "      <th></th>\n",
       "      <th>return_date_sepulture</th>\n",
       "      <th>burial_date</th>\n",
       "    </tr>\n",
       "    <tr>\n",
       "      <th>id</th>\n",
       "      <th></th>\n",
       "      <th></th>\n",
       "    </tr>\n",
       "  </thead>\n",
       "  <tbody>\n",
       "    <tr>\n",
       "      <th>5550</th>\n",
       "      <td>1966-05-16</td>\n",
       "      <td>1966-05-15</td>\n",
       "    </tr>\n",
       "    <tr>\n",
       "      <th>5516</th>\n",
       "      <td>1966-05-23</td>\n",
       "      <td>1965-05-24</td>\n",
       "    </tr>\n",
       "  </tbody>\n",
       "</table>\n",
       "</div>"
      ],
      "text/plain": [
       "     return_date_sepulture burial_date\n",
       "id                                    \n",
       "5550            1966-05-16  1966-05-15\n",
       "5516            1966-05-23  1965-05-24"
      ]
     },
     "execution_count": 63,
     "metadata": {},
     "output_type": "execute_result"
    }
   ],
   "source": [
    "data[data[\"return_date_sepulture\"] > data[\"burial_date\"]][[\"return_date_sepulture\", \"burial_date\"]]"
   ]
  },
  {
   "cell_type": "code",
   "execution_count": 64,
   "metadata": {},
   "outputs": [],
   "source": [
    "# These are just small typos\n",
    "data.loc[5550, \"return_date_sepulture\"] = pd.to_datetime(\"1966-05-15\")\n",
    "data.loc[5516, \"return_date_sepulture\"] = pd.to_datetime(\"1965-05-15\")"
   ]
  },
  {
   "cell_type": "code",
   "execution_count": 65,
   "metadata": {},
   "outputs": [
    {
     "data": {
      "text/html": [
       "<div>\n",
       "<style scoped>\n",
       "    .dataframe tbody tr th:only-of-type {\n",
       "        vertical-align: middle;\n",
       "    }\n",
       "\n",
       "    .dataframe tbody tr th {\n",
       "        vertical-align: top;\n",
       "    }\n",
       "\n",
       "    .dataframe thead th {\n",
       "        text-align: right;\n",
       "    }\n",
       "</style>\n",
       "<table border=\"1\" class=\"dataframe\">\n",
       "  <thead>\n",
       "    <tr style=\"text-align: right;\">\n",
       "      <th></th>\n",
       "      <th>return_date_sepulture</th>\n",
       "      <th>burial_date</th>\n",
       "    </tr>\n",
       "    <tr>\n",
       "      <th>id</th>\n",
       "      <th></th>\n",
       "      <th></th>\n",
       "    </tr>\n",
       "  </thead>\n",
       "  <tbody>\n",
       "  </tbody>\n",
       "</table>\n",
       "</div>"
      ],
      "text/plain": [
       "Empty DataFrame\n",
       "Columns: [return_date_sepulture, burial_date]\n",
       "Index: []"
      ]
     },
     "execution_count": 65,
     "metadata": {},
     "output_type": "execute_result"
    }
   ],
   "source": [
    "# Checking we have fixed all errors\n",
    "data[data[\"return_date_sepulture\"] > data[\"burial_date\"]][[\"return_date_sepulture\", \"burial_date\"]]"
   ]
  },
  {
   "cell_type": "markdown",
   "metadata": {},
   "source": [
    "# Exporting the cleaned dataset\n",
    "\n",
    "Now that the data validation process is complete, we can export the final dataset and use it for analysis."
   ]
  },
  {
   "cell_type": "code",
   "execution_count": 66,
   "metadata": {},
   "outputs": [],
   "source": [
    "data.sort_index().to_csv(\"out/donors.csv\")"
   ]
  }
 ],
 "metadata": {
  "kernelspec": {
   "display_name": "virt",
   "language": "python",
   "name": "python3"
  },
  "language_info": {
   "codemirror_mode": {
    "name": "ipython",
    "version": 3
   },
   "file_extension": ".py",
   "mimetype": "text/x-python",
   "name": "python",
   "nbconvert_exporter": "python",
   "pygments_lexer": "ipython3",
   "version": "3.11.0"
  }
 },
 "nbformat": 4,
 "nbformat_minor": 2
}
